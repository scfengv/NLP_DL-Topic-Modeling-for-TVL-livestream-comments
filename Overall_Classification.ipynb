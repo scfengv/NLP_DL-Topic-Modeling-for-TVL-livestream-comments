{
  "nbformat": 4,
  "nbformat_minor": 0,
  "metadata": {
    "colab": {
      "provenance": [],
      "gpuType": "T4"
    },
    "kernelspec": {
      "name": "python3",
      "display_name": "Python 3"
    },
    "language_info": {
      "name": "python"
    },
    "accelerator": "GPU"
  },
  "cells": [
    {
      "cell_type": "markdown",
      "source": [
        "## Everything Beforehand"
      ],
      "metadata": {
        "id": "WxTfIRoW5_VA"
      }
    },
    {
      "cell_type": "code",
      "source": [
        "from google.colab import drive\n",
        "drive.mount('/content/drive')"
      ],
      "metadata": {
        "id": "oq6JShhL9EB1",
        "colab": {
          "base_uri": "https://localhost:8080/"
        },
        "outputId": "281b9cc5-2c83-447e-a473-1584eeef6253"
      },
      "execution_count": 1,
      "outputs": [
        {
          "output_type": "stream",
          "name": "stdout",
          "text": [
            "Mounted at /content/drive\n"
          ]
        }
      ]
    },
    {
      "cell_type": "code",
      "source": [
        "!source /content/drive/MyDrive/colab_env/bin/activate\n",
        "\n",
        "import sys\n",
        "sys.path.append(\"/content/drive/MyDrive/colab_env/lib/python3.10/site-packages\")"
      ],
      "metadata": {
        "id": "44iRUaNk9F2R"
      },
      "execution_count": 2,
      "outputs": []
    },
    {
      "cell_type": "code",
      "source": [
        "!pip install transformers==4.30.2\n",
        "# print(transformers.__version__)"
      ],
      "metadata": {
        "id": "9GacQNL5g4n4"
      },
      "execution_count": null,
      "outputs": []
    },
    {
      "cell_type": "code",
      "source": [
        "# !pip install spacy_streamlit"
      ],
      "metadata": {
        "id": "vgqb8A7KwYXQ"
      },
      "execution_count": null,
      "outputs": []
    },
    {
      "cell_type": "code",
      "source": [
        "# !pip install spacy[transformers]"
      ],
      "metadata": {
        "id": "R03kTFB5-PEd"
      },
      "execution_count": null,
      "outputs": []
    },
    {
      "cell_type": "code",
      "source": [
        "# !pip install emoji"
      ],
      "metadata": {
        "id": "5jd5eQLY4ahh"
      },
      "execution_count": null,
      "outputs": []
    },
    {
      "cell_type": "code",
      "source": [
        "import locale\n",
        "locale.getpreferredencoding = lambda: \"UTF-8\""
      ],
      "metadata": {
        "id": "szLXPXCWFoOO"
      },
      "execution_count": 48,
      "outputs": []
    },
    {
      "cell_type": "code",
      "execution_count": 4,
      "metadata": {
        "id": "hhm3GFhRCkjs"
      },
      "outputs": [],
      "source": [
        "import os\n",
        "import re\n",
        "import json\n",
        "import spacy\n",
        "import emoji\n",
        "import pandas as pd\n",
        "import transformers\n",
        "from io import StringIO\n",
        "import spacy_transformers\n",
        "# from spacy import displacy\n",
        "import matplotlib.pyplot as plt\n",
        "from spacy.tokens import DocBin\n",
        "# from spacy_streamlit import visualize_textcat\n",
        "from sklearn.model_selection import train_test_split\n",
        "from spacy.pipeline.textcat_multilabel import Config, multi_label_cnn_config"
      ]
    },
    {
      "cell_type": "code",
      "source": [
        "%config InlineBackend.figure_format = 'retina'"
      ],
      "metadata": {
        "id": "VW5oatJv72Fs"
      },
      "execution_count": 5,
      "outputs": []
    },
    {
      "cell_type": "code",
      "source": [
        "def get_json(file_path):\n",
        "    with open(file_path, 'r', encoding = 'utf-8') as file:\n",
        "        content = json.load(file, strict = False)\n",
        "    return content"
      ],
      "metadata": {
        "id": "htUtV0lD-jqW"
      },
      "execution_count": 6,
      "outputs": []
    },
    {
      "cell_type": "code",
      "source": [
        "def rmemoji(text):\n",
        "    return emoji.replace_emoji(text, '').strip()\n",
        "\n",
        "def emoji2description(text):\n",
        "    return emoji.replace_emoji(text, replace = lambda chars, data_dict: ' ' + ' '.join(data_dict['zh'].split('_')).strip(':') + ' ')\n",
        "\n",
        "def emoji2description_en(text):\n",
        "    return emoji.replace_emoji(text, replace = lambda chars, data_dict: ' ' + ' '.join(data_dict['en'].split('_')).strip(':') + ' ')\n",
        "\n",
        "def remove_punctuation_regex(input_string):\n",
        "    return re.sub(r'[^\\w\\s]', '', input_string)"
      ],
      "metadata": {
        "id": "1Q0bqkU04UYz"
      },
      "execution_count": 7,
      "outputs": []
    },
    {
      "cell_type": "code",
      "source": [
        "!python -m spacy download zh_core_web_trf  ## Blank model ## Only Download when opening a new task"
      ],
      "metadata": {
        "id": "TMoZvgIXEGu6"
      },
      "execution_count": null,
      "outputs": []
    },
    {
      "cell_type": "code",
      "source": [
        "os.chdir('/content/drive/MyDrive/Capstone/Spacy')"
      ],
      "metadata": {
        "id": "sQ47r7trG3NX"
      },
      "execution_count": 9,
      "outputs": []
    },
    {
      "cell_type": "markdown",
      "source": [
        "## Preprocessing"
      ],
      "metadata": {
        "id": "VTyQ7EGH6Tzr"
      }
    },
    {
      "cell_type": "markdown",
      "source": [
        "<h3> Raw dataset </h3>"
      ],
      "metadata": {
        "id": "y4qERpdd9X1S"
      }
    },
    {
      "cell_type": "code",
      "source": [
        "df = pd.read_csv('./data/Overall_Layer_topic.csv')"
      ],
      "metadata": {
        "id": "Bu8cMbgJGyo2"
      },
      "execution_count": 10,
      "outputs": []
    },
    {
      "cell_type": "code",
      "source": [
        "df.drop(['Unnamed: 0'], axis = 1, inplace = True)\n",
        "df.reset_index(drop = True, inplace = True)\n",
        "df.reset_index(inplace = True)"
      ],
      "metadata": {
        "id": "Ou86jPc3UMS_"
      },
      "execution_count": 11,
      "outputs": []
    },
    {
      "cell_type": "code",
      "source": [
        "print(len(df))\n",
        "df['text'] = df['text'].replace(' ', '')\n",
        "df = df[(df['text'] != '') & (df['text'].notnull())]\n",
        "print(len(df))"
      ],
      "metadata": {
        "colab": {
          "base_uri": "https://localhost:8080/"
        },
        "id": "Rapx0Gxm_rgs",
        "outputId": "1151e4c3-06b4-4d30-a5aa-3a780b1b6716"
      },
      "execution_count": 12,
      "outputs": [
        {
          "output_type": "stream",
          "name": "stdout",
          "text": [
            "121311\n",
            "121307\n"
          ]
        }
      ]
    },
    {
      "cell_type": "markdown",
      "source": [
        "### Comparison between 3 data preprocessing method"
      ],
      "metadata": {
        "id": "tSKCVzM-9Oya"
      }
    },
    {
      "cell_type": "code",
      "source": [
        "print(rmemoji(df['text'][0]))\n",
        "print(emoji2description(df['text'][0]))\n",
        "print(emoji2description_en(df['text'][0]))\n",
        "print(remove_punctuation_regex(df['text'][0]))"
      ],
      "metadata": {
        "colab": {
          "base_uri": "https://localhost:8080/"
        },
        "id": "O9DxhKtJ45nG",
        "outputId": "083a4ac7-67a1-4684-b983-f993d50e85cd"
      },
      "execution_count": 13,
      "outputs": [
        {
          "output_type": "stream",
          "name": "stdout",
          "text": [
            "小温加油！美津濃加油\n",
            "小温加油！美津濃加油 火焰  火焰 \n",
            "小温加油！美津濃加油 fire  fire \n",
            "小温加油美津濃加油\n"
          ]
        }
      ]
    },
    {
      "cell_type": "markdown",
      "source": [
        "<h4> df_rmemoji"
      ],
      "metadata": {
        "id": "nByMyyI4_QQm"
      }
    },
    {
      "cell_type": "code",
      "source": [
        "df_rmemoji = df.copy()\n",
        "\n",
        "print(len(df_rmemoji))\n",
        "df_rmemoji['text'] = df_rmemoji['text'].astype(str).apply(rmemoji)\n",
        "df_rmemoji['text'] = df_rmemoji['text'].replace(' ', '')\n",
        "df_rmemoji = df_rmemoji[(df_rmemoji['text'] != '') & (df_rmemoji['text'].notnull())]\n",
        "print(len(df_rmemoji))"
      ],
      "metadata": {
        "colab": {
          "base_uri": "https://localhost:8080/"
        },
        "id": "IEtdr7ky9c7F",
        "outputId": "17ecc73a-2f8f-45b4-aaff-72538fced5c7"
      },
      "execution_count": 14,
      "outputs": [
        {
          "output_type": "stream",
          "name": "stdout",
          "text": [
            "121307\n",
            "116280\n"
          ]
        }
      ]
    },
    {
      "cell_type": "markdown",
      "source": [
        "<h4> df_emoji2desc"
      ],
      "metadata": {
        "id": "2INkKjRu_SUT"
      }
    },
    {
      "cell_type": "code",
      "source": [
        "df_emoji2desc = df.copy()\n",
        "\n",
        "print(len(df_emoji2desc))\n",
        "df_emoji2desc['text'] = df_emoji2desc['text'].astype(str).apply(emoji2description)\n",
        "df_emoji2desc['text'] = df_emoji2desc['text'].replace(' ', '')\n",
        "df_emoji2desc = df_emoji2desc[(df_emoji2desc['text'] != '') & (df_emoji2desc['text'].notnull())]\n",
        "print(len(df_emoji2desc))"
      ],
      "metadata": {
        "colab": {
          "base_uri": "https://localhost:8080/"
        },
        "id": "UtzY3O_j-6RR",
        "outputId": "86c85fe0-eb55-41b0-e3da-94fdc19d96a1"
      },
      "execution_count": 15,
      "outputs": [
        {
          "output_type": "stream",
          "name": "stdout",
          "text": [
            "121307\n",
            "121307\n"
          ]
        }
      ]
    },
    {
      "cell_type": "markdown",
      "source": [
        "<h4>df_emoji2desc_en"
      ],
      "metadata": {
        "id": "kDyYfJ1mKKwz"
      }
    },
    {
      "cell_type": "code",
      "source": [
        "df_emoji2desc_en = df.copy()\n",
        "\n",
        "print(len(df_emoji2desc_en))\n",
        "df_emoji2desc_en['text'] = df_emoji2desc_en['text'].astype(str).apply(emoji2description_en)\n",
        "df_emoji2desc_en['text'] = df_emoji2desc_en['text'].replace(' ', '')\n",
        "df_emoji2desc_en = df_emoji2desc_en[(df_emoji2desc_en['text'] != '') & (df_emoji2desc_en['text'].notnull())]\n",
        "print(len(df_emoji2desc_en))"
      ],
      "metadata": {
        "colab": {
          "base_uri": "https://localhost:8080/"
        },
        "id": "0e6jvO8iKPkg",
        "outputId": "142b58d6-3f38-4991-aab2-2a1725c032b3"
      },
      "execution_count": 16,
      "outputs": [
        {
          "output_type": "stream",
          "name": "stdout",
          "text": [
            "121307\n",
            "121307\n"
          ]
        }
      ]
    },
    {
      "cell_type": "markdown",
      "source": [
        "<h4> df_rmpunc"
      ],
      "metadata": {
        "id": "mT8NMVxD_Us7"
      }
    },
    {
      "cell_type": "code",
      "source": [
        "df_rmpunc = df.copy()\n",
        "\n",
        "print(len(df_rmpunc))\n",
        "df_rmpunc['text'] = df_rmpunc['text'].astype(str).apply(remove_punctuation_regex)\n",
        "df_rmpunc['text'] = df_rmpunc['text'].replace(' ','')\n",
        "df_rmpunc = df_rmpunc[(df_rmpunc['text'] != '') & (df_rmpunc['text'].notnull())]\n",
        "print(len(df_rmpunc))"
      ],
      "metadata": {
        "colab": {
          "base_uri": "https://localhost:8080/"
        },
        "id": "FnmH9UEi_XUU",
        "outputId": "d02cc41e-6bb1-4363-ba3b-424d781c11b9"
      },
      "execution_count": 17,
      "outputs": [
        {
          "output_type": "stream",
          "name": "stdout",
          "text": [
            "121307\n",
            "114908\n"
          ]
        }
      ]
    },
    {
      "cell_type": "markdown",
      "source": [
        "## Training Process"
      ],
      "metadata": {
        "id": "AFNrytAd6uAJ"
      }
    },
    {
      "cell_type": "markdown",
      "source": [
        "### Load Model"
      ],
      "metadata": {
        "id": "TDmKEiJz67rV"
      }
    },
    {
      "cell_type": "code",
      "source": [
        "spacy.prefer_gpu()\n",
        "nlp = spacy.load('zh_core_web_trf')"
      ],
      "metadata": {
        "id": "AANd8BQ8Cwll"
      },
      "execution_count": 18,
      "outputs": []
    },
    {
      "cell_type": "code",
      "source": [
        "config = Config().from_str(multi_label_cnn_config)\n",
        "\n",
        "text_cat = nlp.add_pipe(\"textcat_multilabel\", config = config)\n",
        "\n",
        "labels = ['比賽', '加油', '轉播', '閒聊']\n",
        "\n",
        "for i in labels:\n",
        "    text_cat.add_label(i)"
      ],
      "metadata": {
        "id": "V2OiNr8mHb_D"
      },
      "execution_count": 19,
      "outputs": []
    },
    {
      "cell_type": "markdown",
      "source": [
        "### Load PyTorch dataset"
      ],
      "metadata": {
        "id": "GSW0qtQX6_7m"
      }
    },
    {
      "cell_type": "code",
      "source": [
        "y = df[['比賽', '加油', '轉播', '閒聊']]\n",
        "y = y.to_dict('index')\n",
        "\n",
        "dataset = list(zip(df['text'],[{'cats': cats} for cats in y.values()]))"
      ],
      "metadata": {
        "id": "Auob3Nr5ETq-"
      },
      "execution_count": 20,
      "outputs": []
    },
    {
      "cell_type": "code",
      "source": [
        "train_df, test_df = train_test_split(df, train_size = 0.7, random_state = 42)\n",
        "train_data, test_data = train_test_split(dataset, train_size = 0.7, random_state = 42)"
      ],
      "metadata": {
        "id": "ycVUTJ6xHTAl"
      },
      "execution_count": 21,
      "outputs": []
    },
    {
      "cell_type": "code",
      "source": [
        "print(len(train_data))"
      ],
      "metadata": {
        "colab": {
          "base_uri": "https://localhost:8080/"
        },
        "id": "dTZQNxy-acG9",
        "outputId": "336dd605-5494-44d6-eb5c-79d63bb89ff9"
      },
      "execution_count": 22,
      "outputs": [
        {
          "output_type": "stream",
          "name": "stdout",
          "text": [
            "84914\n"
          ]
        }
      ]
    },
    {
      "cell_type": "markdown",
      "source": [
        "<h4> Add emoji2desc into training data"
      ],
      "metadata": {
        "id": "ONAM9ImoS_Z0"
      }
    },
    {
      "cell_type": "code",
      "source": [
        "team_emoji = ['☀', '⚡', '🌚', '🌝', '🌞', '🐳', '🐋', '🍊', '🏎', '🔆', '🐯', '🦁', '🦅']\n",
        "cheer_emoji = ['⛽', '🏐', '💓', '💕', '💖', '💗', '💘', '💙', '💚', '💛', '🏆', '👑', '🎉', '🎊', '❤', '🦾', '💯', '🙏', '💪', '🔥', '😍', '🤩', '🫶']"
      ],
      "metadata": {
        "id": "_pmFySfB1EXH"
      },
      "execution_count": 23,
      "outputs": []
    },
    {
      "cell_type": "code",
      "source": [
        "team_emo = []\n",
        "cheer_emo = []\n",
        "\n",
        "for i in team_emoji:\n",
        "    team_emo.append({\n",
        "        'text': emoji2description(i),\n",
        "        '比賽': 1,\n",
        "        '加油': 0,\n",
        "        '轉播': 0,\n",
        "        '閒聊': 0\n",
        "    })\n",
        "\n",
        "for j in cheer_emoji:\n",
        "    cheer_emo.append({\n",
        "        'text': emoji2description(j),\n",
        "        '比賽': 0,\n",
        "        '加油': 1,\n",
        "        '轉播': 0,\n",
        "        '閒聊': 0\n",
        "    })\n",
        "\n",
        "team_emo = pd.DataFrame(team_emo)\n",
        "cheer_emo = pd.DataFrame(cheer_emo)"
      ],
      "metadata": {
        "id": "KyrJJ8Xe18tj"
      },
      "execution_count": 24,
      "outputs": []
    },
    {
      "cell_type": "code",
      "source": [
        "y_team = team_emo[['比賽', '加油', '轉播', '閒聊']]\n",
        "y_team = y_team.to_dict('index')\n",
        "\n",
        "team = list(zip(team_emo['text'], [{'cats': cats} for cats in y_team.values()]))\n",
        "\n",
        "y_cheer = cheer_emo[['比賽', '加油', '轉播', '閒聊']]\n",
        "y_cheer = y_cheer.to_dict('index')\n",
        "cheer = list(zip(cheer_emo['text'], [{'cats': cats} for cats in y_cheer.values()]))\n",
        "\n",
        "train_data.extend(team)\n",
        "train_data.extend(cheer)"
      ],
      "metadata": {
        "id": "waZCNT3CYV5-"
      },
      "execution_count": 25,
      "outputs": []
    },
    {
      "cell_type": "markdown",
      "source": [
        "<h4> Add emoji2desc_en into training data"
      ],
      "metadata": {
        "id": "-sQeW19-LBzO"
      }
    },
    {
      "cell_type": "code",
      "source": [
        "team_emo = []\n",
        "cheer_emo = []\n",
        "\n",
        "for i in team_emoji:\n",
        "    team_emo.append({\n",
        "        'text': emoji2description_en(i),\n",
        "        '比賽': 1,\n",
        "        '加油': 0,\n",
        "        '轉播': 0,\n",
        "        '閒聊': 0\n",
        "    })\n",
        "\n",
        "for j in cheer_emoji:\n",
        "    cheer_emo.append({\n",
        "        'text': emoji2description_en(j),\n",
        "        '比賽': 0,\n",
        "        '加油': 1,\n",
        "        '轉播': 0,\n",
        "        '閒聊': 0\n",
        "    })\n",
        "\n",
        "team_emo = pd.DataFrame(team_emo)\n",
        "cheer_emo = pd.DataFrame(cheer_emo)"
      ],
      "metadata": {
        "id": "hLtMyCdKK3Iq"
      },
      "execution_count": 26,
      "outputs": []
    },
    {
      "cell_type": "code",
      "source": [
        "y_team = team_emo[['比賽', '加油', '轉播', '閒聊']]\n",
        "y_team = y_team.to_dict('index')\n",
        "\n",
        "team = list(zip(team_emo['text'], [{'cats': cats} for cats in y_team.values()]))\n",
        "\n",
        "y_cheer = cheer_emo[['比賽', '加油', '轉播', '閒聊']]\n",
        "y_cheer = y_cheer.to_dict('index')\n",
        "cheer = list(zip(cheer_emo['text'], [{'cats': cats} for cats in y_cheer.values()]))\n",
        "\n",
        "train_data.extend(team)\n",
        "train_data.extend(cheer)"
      ],
      "metadata": {
        "id": "zPIVKjFLLFab"
      },
      "execution_count": 27,
      "outputs": []
    },
    {
      "cell_type": "code",
      "source": [
        "print('Training data:')\n",
        "print(train_df['比賽'].sum())\n",
        "print(train_df['加油'].sum())\n",
        "print(train_df['轉播'].sum())\n",
        "print(train_df['閒聊'].sum())"
      ],
      "metadata": {
        "id": "g-uZXyKaDcjp",
        "colab": {
          "base_uri": "https://localhost:8080/"
        },
        "outputId": "5a3ac58e-6803-48b3-fbed-9c602ecf4860"
      },
      "execution_count": 28,
      "outputs": [
        {
          "output_type": "stream",
          "name": "stdout",
          "text": [
            "Training data:\n",
            "44515\n",
            "24392\n",
            "2931\n",
            "28182\n"
          ]
        }
      ]
    },
    {
      "cell_type": "code",
      "source": [
        "ind = list(test_df['index'])"
      ],
      "metadata": {
        "id": "9URHob6FxE3O"
      },
      "execution_count": 29,
      "outputs": []
    },
    {
      "cell_type": "code",
      "source": [
        "df_rmemoji = df_rmemoji[df_rmemoji['index'].isin(ind)]\n",
        "df_emoji2desc = df_emoji2desc[df_emoji2desc['index'].isin(ind)]\n",
        "df_emoji2desc_en = df_emoji2desc_en[df_emoji2desc_en['index'].isin(ind)]\n",
        "df_rmpunc = df_rmpunc[df_rmpunc['index'].isin(ind)]"
      ],
      "metadata": {
        "id": "qjLAtdxh0sRX"
      },
      "execution_count": 30,
      "outputs": []
    },
    {
      "cell_type": "code",
      "source": [
        "y_rmemoji = df_rmemoji[['比賽', '加油', '轉播', '閒聊']]\n",
        "y_rmemoji = y_rmemoji.to_dict('index')\n",
        "\n",
        "dataset_rmemoji = list(zip(df_rmemoji['text'],[{'cats': cats} for cats in y_rmemoji.values()]))"
      ],
      "metadata": {
        "id": "gSSB56XK134J"
      },
      "execution_count": 31,
      "outputs": []
    },
    {
      "cell_type": "code",
      "source": [
        "print(dataset_rmemoji[0])\n",
        "print(len(dataset_rmemoji))"
      ],
      "metadata": {
        "colab": {
          "base_uri": "https://localhost:8080/"
        },
        "id": "MkSfCuL12Q72",
        "outputId": "f891f7c4-82fd-428a-8b6a-ca8c69ba8e04"
      },
      "execution_count": 32,
      "outputs": [
        {
          "output_type": "stream",
          "name": "stdout",
          "text": [
            "('小温加油！美津濃加油', {'cats': {'比賽': 1, '加油': 1, '轉播': 0, '閒聊': 0}})\n",
            "34887\n"
          ]
        }
      ]
    },
    {
      "cell_type": "code",
      "source": [
        "y_emoji2desc = df_emoji2desc[['比賽', '加油', '轉播', '閒聊']]\n",
        "y_emoji2desc = y_emoji2desc.to_dict('index')\n",
        "\n",
        "dataset_emoji2desc = list(zip(df_emoji2desc['text'],[{'cats': cats} for cats in y_emoji2desc.values()]))"
      ],
      "metadata": {
        "id": "hGBHFYGx1_L_"
      },
      "execution_count": 33,
      "outputs": []
    },
    {
      "cell_type": "code",
      "source": [
        "print(dataset_emoji2desc[0])\n",
        "print(len(dataset_emoji2desc))"
      ],
      "metadata": {
        "colab": {
          "base_uri": "https://localhost:8080/"
        },
        "id": "7KY_HZaT2SVZ",
        "outputId": "995d824f-368c-4526-9e52-5aa324dee503"
      },
      "execution_count": 34,
      "outputs": [
        {
          "output_type": "stream",
          "name": "stdout",
          "text": [
            "('小温加油！美津濃加油 火焰  火焰 ', {'cats': {'比賽': 1, '加油': 1, '轉播': 0, '閒聊': 0}})\n",
            "36393\n"
          ]
        }
      ]
    },
    {
      "cell_type": "code",
      "source": [
        "y_emoji2desc_en = df_emoji2desc_en[['比賽', '加油', '轉播', '閒聊']]\n",
        "y_emoji2desc_en = y_emoji2desc_en.to_dict('index')\n",
        "\n",
        "dataset_emoji2desc_en = list(zip(df_emoji2desc_en['text'],[{'cats': cats} for cats in y_emoji2desc_en.values()]))"
      ],
      "metadata": {
        "id": "A6pvmBhML_XS"
      },
      "execution_count": 35,
      "outputs": []
    },
    {
      "cell_type": "code",
      "source": [
        "print(dataset_emoji2desc_en[0])\n",
        "print(len(dataset_emoji2desc_en))"
      ],
      "metadata": {
        "colab": {
          "base_uri": "https://localhost:8080/"
        },
        "outputId": "048702b1-4a0e-4eea-e893-545998312145",
        "id": "DZTLWXMpL_XS"
      },
      "execution_count": 36,
      "outputs": [
        {
          "output_type": "stream",
          "name": "stdout",
          "text": [
            "('小温加油！美津濃加油 fire  fire ', {'cats': {'比賽': 1, '加油': 1, '轉播': 0, '閒聊': 0}})\n",
            "36393\n"
          ]
        }
      ]
    },
    {
      "cell_type": "code",
      "source": [
        "y_rmpunc = df_rmpunc[['比賽', '加油', '轉播', '閒聊']]\n",
        "y_rmpunc = y_rmpunc.to_dict('index')\n",
        "\n",
        "dataset_rmpunc = list(zip(df_rmpunc['text'],[{'cats': cats} for cats in y_rmpunc.values()]))"
      ],
      "metadata": {
        "id": "m9VcJT04Adxn"
      },
      "execution_count": 37,
      "outputs": []
    },
    {
      "cell_type": "code",
      "source": [
        "print(dataset_rmpunc[0])\n",
        "print(len(dataset_rmpunc))"
      ],
      "metadata": {
        "colab": {
          "base_uri": "https://localhost:8080/"
        },
        "outputId": "2e6a1c1d-ae1e-4ba3-bba1-d2f443e00849",
        "id": "DH2ue-pkAdx0"
      },
      "execution_count": 38,
      "outputs": [
        {
          "output_type": "stream",
          "name": "stdout",
          "text": [
            "('小温加油美津濃加油', {'cats': {'比賽': 1, '加油': 1, '轉播': 0, '閒聊': 0}})\n",
            "34485\n"
          ]
        }
      ]
    },
    {
      "cell_type": "code",
      "source": [
        "def make_docs(data):\n",
        "    docs = []\n",
        "    for text, annotations in data:\n",
        "        if isinstance(text, str) and isinstance(annotations, dict):\n",
        "            doc = nlp.make_doc(text)\n",
        "            doc.cats = annotations.get(\"cats\", {})\n",
        "            docs.append(doc)\n",
        "        else:\n",
        "            print(f\"Ignoring invalid data: {text}, {annotations}\")\n",
        "    return docs"
      ],
      "metadata": {
        "id": "KREDtsjsLvZp"
      },
      "execution_count": 39,
      "outputs": []
    },
    {
      "cell_type": "code",
      "source": [
        "os.chdir('/content/drive/MyDrive/Capstone/Spacy/Overall_Layer')"
      ],
      "metadata": {
        "id": "sx37ZK0NJVZ7"
      },
      "execution_count": 40,
      "outputs": []
    },
    {
      "cell_type": "code",
      "source": [
        "num_texts = len(train_data)\n",
        "train_docs = make_docs(train_data[:num_texts])\n",
        "doc_bin_train = DocBin(docs = train_docs)\n",
        "doc_bin_train.to_disk(\"./data/train_1223.spacy\")"
      ],
      "metadata": {
        "id": "OipRz_GlLyGF"
      },
      "execution_count": 41,
      "outputs": []
    },
    {
      "cell_type": "code",
      "source": [
        "num_texts_val = len(test_data)\n",
        "valid_docs = make_docs(test_data[:num_texts_val])\n",
        "doc_bin_valid = DocBin(docs = valid_docs)\n",
        "doc_bin_valid.to_disk(\"./data/valid_1223.spacy\")"
      ],
      "metadata": {
        "id": "gFDlklXbMWB8"
      },
      "execution_count": 42,
      "outputs": []
    },
    {
      "cell_type": "code",
      "source": [
        "valid_docs = make_docs(dataset_rmemoji[:])\n",
        "doc_bin_valid = DocBin(docs = valid_docs)\n",
        "doc_bin_valid.to_disk(\"./data/valid_rmemoji_1223.spacy\")"
      ],
      "metadata": {
        "id": "W3Hxm8_PBSj0"
      },
      "execution_count": 43,
      "outputs": []
    },
    {
      "cell_type": "code",
      "source": [
        "valid_docs = make_docs(dataset_emoji2desc[:])\n",
        "doc_bin_valid = DocBin(docs = valid_docs)\n",
        "doc_bin_valid.to_disk(\"./data/valid_emoji2desc_1223.spacy\")"
      ],
      "metadata": {
        "id": "HvwznODoBSgC"
      },
      "execution_count": 44,
      "outputs": []
    },
    {
      "cell_type": "code",
      "source": [
        "valid_docs = make_docs(dataset_emoji2desc_en[:])\n",
        "doc_bin_valid = DocBin(docs = valid_docs)\n",
        "doc_bin_valid.to_disk(\"./data/valid_emoji2desc_en_1223.spacy\")"
      ],
      "metadata": {
        "id": "MQRKGkUOMHeh"
      },
      "execution_count": 45,
      "outputs": []
    },
    {
      "cell_type": "code",
      "source": [
        "valid_docs = make_docs(dataset_rmpunc[:])\n",
        "doc_bin_valid = DocBin(docs = valid_docs)\n",
        "doc_bin_valid.to_disk(\"./data/valid_rmpunc_1223.spacy\")"
      ],
      "metadata": {
        "id": "XqUd8Je-BScu"
      },
      "execution_count": 46,
      "outputs": []
    },
    {
      "cell_type": "markdown",
      "source": [
        "### Load base_config.cfg\n",
        "https://spacy.io/usage/training"
      ],
      "metadata": {
        "id": "SYQ637DFJi72"
      }
    },
    {
      "cell_type": "code",
      "source": [
        "# !python -m spacy init fill-config ./base_config.cfg ./config.cfg"
      ],
      "metadata": {
        "id": "QzR1WSmhJCVd"
      },
      "execution_count": null,
      "outputs": []
    },
    {
      "cell_type": "markdown",
      "source": [
        "<h3> Training data </h3>\n",
        "\n",
        "比賽 44515, 加油 24392, 轉播 2931, 閒聊 28182\n"
      ],
      "metadata": {
        "id": "il22RYIMD-vS"
      }
    },
    {
      "cell_type": "code",
      "source": [
        "!python -m spacy train config.cfg --output ./output --paths.train ./data/train_1223.spacy --paths.dev ./data/valid_1223.spacy --gpu-id 0"
      ],
      "metadata": {
        "colab": {
          "base_uri": "https://localhost:8080/"
        },
        "id": "LWfGdwwwKATu",
        "outputId": "03a491cb-9247-4975-8394-333546e6b26f"
      },
      "execution_count": 49,
      "outputs": [
        {
          "output_type": "stream",
          "name": "stdout",
          "text": [
            "2023-12-24 07:33:01.322141: E external/local_xla/xla/stream_executor/cuda/cuda_dnn.cc:9261] Unable to register cuDNN factory: Attempting to register factory for plugin cuDNN when one has already been registered\n",
            "2023-12-24 07:33:01.322207: E external/local_xla/xla/stream_executor/cuda/cuda_fft.cc:607] Unable to register cuFFT factory: Attempting to register factory for plugin cuFFT when one has already been registered\n",
            "2023-12-24 07:33:01.324061: E external/local_xla/xla/stream_executor/cuda/cuda_blas.cc:1515] Unable to register cuBLAS factory: Attempting to register factory for plugin cuBLAS when one has already been registered\n",
            "2023-12-24 07:33:02.934516: W tensorflow/compiler/tf2tensorrt/utils/py_utils.cc:38] TF-TRT Warning: Could not find TensorRT\n",
            "\u001b[38;5;4mℹ Saving to output directory: output\u001b[0m\n",
            "\u001b[38;5;4mℹ Using GPU: 0\u001b[0m\n",
            "\u001b[1m\n",
            "=========================== Initializing pipeline ===========================\u001b[0m\n",
            "tokenizer_config.json: 100% 29.0/29.0 [00:00<00:00, 83.5kB/s]\n",
            "config.json: 100% 624/624 [00:00<00:00, 3.55MB/s]\n",
            "vocab.txt: 100% 110k/110k [00:00<00:00, 4.84MB/s]\n",
            "tokenizer.json: 100% 269k/269k [00:00<00:00, 10.4MB/s]\n",
            "model.safetensors: 100% 412M/412M [00:02<00:00, 171MB/s]\n",
            "Some weights of the model checkpoint at bert-base-chinese were not used when initializing BertModel: ['cls.predictions.transform.LayerNorm.bias', 'cls.seq_relationship.bias', 'cls.seq_relationship.weight', 'cls.predictions.bias', 'cls.predictions.transform.LayerNorm.weight', 'cls.predictions.transform.dense.weight', 'cls.predictions.transform.dense.bias']\n",
            "- This IS expected if you are initializing BertModel from the checkpoint of a model trained on another task or with another architecture (e.g. initializing a BertForSequenceClassification model from a BertForPreTraining model).\n",
            "- This IS NOT expected if you are initializing BertModel from the checkpoint of a model that you expect to be exactly identical (initializing a BertForSequenceClassification model from a BertForSequenceClassification model).\n",
            "\u001b[38;5;2m✔ Initialized pipeline\u001b[0m\n",
            "\u001b[1m\n",
            "============================= Training pipeline =============================\u001b[0m\n",
            "\u001b[38;5;4mℹ Pipeline: ['transformer', 'textcat_multilabel']\u001b[0m\n",
            "\u001b[38;5;4mℹ Initial learn rate: 0.0\u001b[0m\n",
            "E    #       LOSS TRANS...  LOSS TEXTC...  CATS_SCORE  SCORE \n",
            "---  ------  -------------  -------------  ----------  ------\n",
            "  0       0           0.29           1.09       51.99    0.52\n",
            "  0     200        1065.22          95.84       93.04    0.93\n",
            "  0     400         285.79          49.50       96.64    0.97\n",
            "  0     600         163.74          31.90       97.35    0.97\n",
            "  0     800         146.95          25.78       97.92    0.98\n",
            "  1    1000         104.58          22.48       98.39    0.98\n",
            "  1    1200          93.54          20.00       98.61    0.99\n",
            "  1    1400          71.12          18.16       98.74    0.99\n",
            "  1    1600          62.06          14.35       98.83    0.99\n",
            "  1    1800          71.50          15.32       99.26    0.99\n",
            "  2    2000          56.61          11.90       99.23    0.99\n",
            "  2    2200          49.77          10.69       99.36    0.99\n",
            "  2    2400          45.28          11.24       99.41    0.99\n",
            "  2    2600          46.52          11.17       99.39    0.99\n",
            "  2    2800          48.96          13.35       99.36    0.99\n",
            "  3    3000          39.36           9.53       99.29    0.99\n",
            "  3    3200          44.63           9.87       99.44    0.99\n",
            "  3    3400          37.83           7.20       99.52    1.00\n",
            "  3    3600          41.98           7.21       99.46    0.99\n",
            "  3    3800          37.67           8.70       99.43    0.99\n",
            "  4    4000          36.51           7.38       99.59    1.00\n",
            "  4    4200          30.42           7.48       99.52    1.00\n",
            "  4    4400          36.22           7.16       99.55    1.00\n",
            "  4    4600          31.55           7.34       99.45    0.99\n",
            "  4    4800          30.85           6.70       99.50    1.00\n",
            "  5    5000          32.99           6.38       99.55    1.00\n",
            "  5    5200          28.88           5.47       99.54    1.00\n",
            "  5    5400          30.31           6.38       99.52    1.00\n",
            "  5    5600          28.70           6.51       99.58    1.00\n",
            "\u001b[38;5;2m✔ Saved pipeline to output directory\u001b[0m\n",
            "output/model-last\n"
          ]
        }
      ]
    },
    {
      "cell_type": "markdown",
      "source": [
        "## Performace Analysis"
      ],
      "metadata": {
        "id": "bCM3jI497KUR"
      }
    },
    {
      "cell_type": "code",
      "source": [
        "data = \"\"\"E,#,LOSS TRANSFORMER,LOSS TEXTCAT_MULTILABEL,CATS_SCORE,SCORE\n",
        "0, 0, 0.42, 1.44, 51.99, 0.52\n",
        "0, 200, 1055.33, 101.28, 92.78, 0.93\n",
        "0, 400, 295.76, 49.47, 97.07, 0.97\n",
        "0, 600, 172.41, 33.62, 97.98, 0.98\n",
        "0, 800, 118.22, 25.92, 98.15, 0.98\n",
        "1, 1000, 80.69, 20.52, 98.80, 0.99\n",
        "1, 1200, 90.90, 17.29, 99.08, 0.99\n",
        "1, 1400, 74.64, 15.27, 99.23, 0.99\n",
        "1, 1600, 63.25, 16.20, 99.19, 0.99\n",
        "1, 1800, 67.85, 15.07, 99.30, 0.99\n",
        "2, 2000, 53.40, 14.62, 99.32, 0.99\n",
        "2, 2200, 55.47, 11.55, 99.43, 0.99\n",
        "2, 2400, 49.97, 9.05, 99.42, 0.99\n",
        "2, 2600, 46.02, 11.14, 99.49, 0.99\n",
        "2, 2800, 48.01, 9.36, 99.28, 0.99\n",
        "3, 3000, 43.64, 10.12, 99.37, 0.99\n",
        "3, 3200, 34.02, 8.42, 99.29, 0.99\n",
        "3, 3400, 37.26, 7.56, 99.41, 0.99\n",
        "3, 3600, 34.95, 8.54, 99.50, 0.99\n",
        "3, 3800, 39.29, 8.88, 99.47, 0.99\n",
        "4, 4000, 32.42, 6.03, 99.51, 1.00\n",
        "4, 4200, 29.42, 6.56, 99.52, 1.00\n",
        "4, 4400, 32.91, 6.55, 99.49, 0.99\n",
        "4, 4600, 31.16, 6.65, 99.37, 0.99\n",
        "4, 4800, 32.97, 7.15, 99.53, 1.00\n",
        "5, 5000, 28.38, 5.66, 99.49, 0.99\n",
        "5, 5200, 29.69, 6.11, 99.50, 0.99\n",
        "5, 5400, 32.32, 5.68, 99.53, 1.00\n",
        "5, 5600, 28.35, 5.71, 99.49, 0.99\n",
        "5, 5800, 28.01, 5.63, 99.43, 0.99\n",
        "6, 6000, 25.28, 6.11, 99.57, 1.00\n",
        "6, 6200, 26.42, 6.32, 99.35, 0.99\n",
        "6, 6400, 27.09, 5.74, 99.51, 1.00\n",
        "6, 6600, 29.08, 4.58, 99.48, 0.99\n",
        "6, 6800, 28.06, 4.71, 99.54, 1.00\n",
        "7, 7000, 25.15, 4.32, 99.58, 1.00\n",
        "7, 7200, 27.72, 4.56, 99.62, 1.00\n",
        "7, 7400, 22.74, 4.50, 99.33, 0.99\n",
        "7, 7600, 23.97, 3.99, 99.52, 1.00\n",
        "7, 7800, 24.74, 6.24, 99.57, 1.00\n",
        "8, 8000, 21.48, 3.35, 99.56, 1.00\n",
        "8, 8200, 24.35, 4.03, 99.54, 1.00\n",
        "8, 8400, 24.37, 3.72, 99.58, 1.00\n",
        "8, 8600, 20.39, 4.42, 99.55, 1.00\n",
        "8, 8800, 25.80, 3.73, 99.47, 0.99\n",
        "\"\"\"\n",
        "\n",
        "df4 = pd.read_csv(StringIO(data))\n"
      ],
      "metadata": {
        "id": "rSd-HUUxg_L2"
      },
      "execution_count": 134,
      "outputs": []
    },
    {
      "cell_type": "code",
      "source": [
        "result = pd.DataFrame({\n",
        "    'E': df4['E'][:-1].reset_index(drop=True),\n",
        "    '#': df4['#'][:-1].reset_index(drop=True),\n",
        "    'LOSS TRANSFORMER': df4['LOSS TRANSFORMER'][1:].reset_index(drop=True),\n",
        "    'LOSS TEXTCAT_MULTILABEL': df4['LOSS TEXTCAT_MULTILABEL'][1:].reset_index(drop=True),\n",
        "    'CATS_SCORE': df4['CATS_SCORE'][:-1].reset_index(drop=True),\n",
        "    'SCORE': df4['SCORE'][:-1].reset_index(drop=True)\n",
        "})\n",
        "\n",
        "# result.to_csv('Overall_Layer_training_result_1220.csv', index = False)"
      ],
      "metadata": {
        "id": "kw7G6C1lI3A8"
      },
      "execution_count": 135,
      "outputs": []
    },
    {
      "cell_type": "code",
      "source": [
        "result"
      ],
      "metadata": {
        "colab": {
          "base_uri": "https://localhost:8080/",
          "height": 1000
        },
        "id": "M7qItTlj6BvD",
        "outputId": "96f45c92-8fbd-474f-9098-4c581095ba1f"
      },
      "execution_count": 136,
      "outputs": [
        {
          "output_type": "execute_result",
          "data": {
            "text/plain": [
              "    E     #  LOSS TRANSFORMER  LOSS TEXTCAT_MULTILABEL  CATS_SCORE  SCORE\n",
              "0   0     0           1055.33                   101.28       51.99   0.52\n",
              "1   0   200            295.76                    49.47       92.78   0.93\n",
              "2   0   400            172.41                    33.62       97.07   0.97\n",
              "3   0   600            118.22                    25.92       97.98   0.98\n",
              "4   0   800             80.69                    20.52       98.15   0.98\n",
              "5   1  1000             90.90                    17.29       98.80   0.99\n",
              "6   1  1200             74.64                    15.27       99.08   0.99\n",
              "7   1  1400             63.25                    16.20       99.23   0.99\n",
              "8   1  1600             67.85                    15.07       99.19   0.99\n",
              "9   1  1800             53.40                    14.62       99.30   0.99\n",
              "10  2  2000             55.47                    11.55       99.32   0.99\n",
              "11  2  2200             49.97                     9.05       99.43   0.99\n",
              "12  2  2400             46.02                    11.14       99.42   0.99\n",
              "13  2  2600             48.01                     9.36       99.49   0.99\n",
              "14  2  2800             43.64                    10.12       99.28   0.99\n",
              "15  3  3000             34.02                     8.42       99.37   0.99\n",
              "16  3  3200             37.26                     7.56       99.29   0.99\n",
              "17  3  3400             34.95                     8.54       99.41   0.99\n",
              "18  3  3600             39.29                     8.88       99.50   0.99\n",
              "19  3  3800             32.42                     6.03       99.47   0.99\n",
              "20  4  4000             29.42                     6.56       99.51   1.00\n",
              "21  4  4200             32.91                     6.55       99.52   1.00\n",
              "22  4  4400             31.16                     6.65       99.49   0.99\n",
              "23  4  4600             32.97                     7.15       99.37   0.99\n",
              "24  4  4800             28.38                     5.66       99.53   1.00\n",
              "25  5  5000             29.69                     6.11       99.49   0.99\n",
              "26  5  5200             32.32                     5.68       99.50   0.99\n",
              "27  5  5400             28.35                     5.71       99.53   1.00\n",
              "28  5  5600             28.01                     5.63       99.49   0.99\n",
              "29  5  5800             25.28                     6.11       99.43   0.99\n",
              "30  6  6000             26.42                     6.32       99.57   1.00\n",
              "31  6  6200             27.09                     5.74       99.35   0.99\n",
              "32  6  6400             29.08                     4.58       99.51   1.00\n",
              "33  6  6600             28.06                     4.71       99.48   0.99\n",
              "34  6  6800             25.15                     4.32       99.54   1.00\n",
              "35  7  7000             27.72                     4.56       99.58   1.00\n",
              "36  7  7200             22.74                     4.50       99.62   1.00\n",
              "37  7  7400             23.97                     3.99       99.33   0.99\n",
              "38  7  7600             24.74                     6.24       99.52   1.00\n",
              "39  7  7800             21.48                     3.35       99.57   1.00\n",
              "40  8  8000             24.35                     4.03       99.56   1.00\n",
              "41  8  8200             24.37                     3.72       99.54   1.00\n",
              "42  8  8400             20.39                     4.42       99.58   1.00\n",
              "43  8  8600             25.80                     3.73       99.55   1.00"
            ],
            "text/html": [
              "\n",
              "  <div id=\"df-ce29f3be-ce26-41b0-942b-d8c66fcb5ad6\" class=\"colab-df-container\">\n",
              "    <div>\n",
              "<style scoped>\n",
              "    .dataframe tbody tr th:only-of-type {\n",
              "        vertical-align: middle;\n",
              "    }\n",
              "\n",
              "    .dataframe tbody tr th {\n",
              "        vertical-align: top;\n",
              "    }\n",
              "\n",
              "    .dataframe thead th {\n",
              "        text-align: right;\n",
              "    }\n",
              "</style>\n",
              "<table border=\"1\" class=\"dataframe\">\n",
              "  <thead>\n",
              "    <tr style=\"text-align: right;\">\n",
              "      <th></th>\n",
              "      <th>E</th>\n",
              "      <th>#</th>\n",
              "      <th>LOSS TRANSFORMER</th>\n",
              "      <th>LOSS TEXTCAT_MULTILABEL</th>\n",
              "      <th>CATS_SCORE</th>\n",
              "      <th>SCORE</th>\n",
              "    </tr>\n",
              "  </thead>\n",
              "  <tbody>\n",
              "    <tr>\n",
              "      <th>0</th>\n",
              "      <td>0</td>\n",
              "      <td>0</td>\n",
              "      <td>1055.33</td>\n",
              "      <td>101.28</td>\n",
              "      <td>51.99</td>\n",
              "      <td>0.52</td>\n",
              "    </tr>\n",
              "    <tr>\n",
              "      <th>1</th>\n",
              "      <td>0</td>\n",
              "      <td>200</td>\n",
              "      <td>295.76</td>\n",
              "      <td>49.47</td>\n",
              "      <td>92.78</td>\n",
              "      <td>0.93</td>\n",
              "    </tr>\n",
              "    <tr>\n",
              "      <th>2</th>\n",
              "      <td>0</td>\n",
              "      <td>400</td>\n",
              "      <td>172.41</td>\n",
              "      <td>33.62</td>\n",
              "      <td>97.07</td>\n",
              "      <td>0.97</td>\n",
              "    </tr>\n",
              "    <tr>\n",
              "      <th>3</th>\n",
              "      <td>0</td>\n",
              "      <td>600</td>\n",
              "      <td>118.22</td>\n",
              "      <td>25.92</td>\n",
              "      <td>97.98</td>\n",
              "      <td>0.98</td>\n",
              "    </tr>\n",
              "    <tr>\n",
              "      <th>4</th>\n",
              "      <td>0</td>\n",
              "      <td>800</td>\n",
              "      <td>80.69</td>\n",
              "      <td>20.52</td>\n",
              "      <td>98.15</td>\n",
              "      <td>0.98</td>\n",
              "    </tr>\n",
              "    <tr>\n",
              "      <th>5</th>\n",
              "      <td>1</td>\n",
              "      <td>1000</td>\n",
              "      <td>90.90</td>\n",
              "      <td>17.29</td>\n",
              "      <td>98.80</td>\n",
              "      <td>0.99</td>\n",
              "    </tr>\n",
              "    <tr>\n",
              "      <th>6</th>\n",
              "      <td>1</td>\n",
              "      <td>1200</td>\n",
              "      <td>74.64</td>\n",
              "      <td>15.27</td>\n",
              "      <td>99.08</td>\n",
              "      <td>0.99</td>\n",
              "    </tr>\n",
              "    <tr>\n",
              "      <th>7</th>\n",
              "      <td>1</td>\n",
              "      <td>1400</td>\n",
              "      <td>63.25</td>\n",
              "      <td>16.20</td>\n",
              "      <td>99.23</td>\n",
              "      <td>0.99</td>\n",
              "    </tr>\n",
              "    <tr>\n",
              "      <th>8</th>\n",
              "      <td>1</td>\n",
              "      <td>1600</td>\n",
              "      <td>67.85</td>\n",
              "      <td>15.07</td>\n",
              "      <td>99.19</td>\n",
              "      <td>0.99</td>\n",
              "    </tr>\n",
              "    <tr>\n",
              "      <th>9</th>\n",
              "      <td>1</td>\n",
              "      <td>1800</td>\n",
              "      <td>53.40</td>\n",
              "      <td>14.62</td>\n",
              "      <td>99.30</td>\n",
              "      <td>0.99</td>\n",
              "    </tr>\n",
              "    <tr>\n",
              "      <th>10</th>\n",
              "      <td>2</td>\n",
              "      <td>2000</td>\n",
              "      <td>55.47</td>\n",
              "      <td>11.55</td>\n",
              "      <td>99.32</td>\n",
              "      <td>0.99</td>\n",
              "    </tr>\n",
              "    <tr>\n",
              "      <th>11</th>\n",
              "      <td>2</td>\n",
              "      <td>2200</td>\n",
              "      <td>49.97</td>\n",
              "      <td>9.05</td>\n",
              "      <td>99.43</td>\n",
              "      <td>0.99</td>\n",
              "    </tr>\n",
              "    <tr>\n",
              "      <th>12</th>\n",
              "      <td>2</td>\n",
              "      <td>2400</td>\n",
              "      <td>46.02</td>\n",
              "      <td>11.14</td>\n",
              "      <td>99.42</td>\n",
              "      <td>0.99</td>\n",
              "    </tr>\n",
              "    <tr>\n",
              "      <th>13</th>\n",
              "      <td>2</td>\n",
              "      <td>2600</td>\n",
              "      <td>48.01</td>\n",
              "      <td>9.36</td>\n",
              "      <td>99.49</td>\n",
              "      <td>0.99</td>\n",
              "    </tr>\n",
              "    <tr>\n",
              "      <th>14</th>\n",
              "      <td>2</td>\n",
              "      <td>2800</td>\n",
              "      <td>43.64</td>\n",
              "      <td>10.12</td>\n",
              "      <td>99.28</td>\n",
              "      <td>0.99</td>\n",
              "    </tr>\n",
              "    <tr>\n",
              "      <th>15</th>\n",
              "      <td>3</td>\n",
              "      <td>3000</td>\n",
              "      <td>34.02</td>\n",
              "      <td>8.42</td>\n",
              "      <td>99.37</td>\n",
              "      <td>0.99</td>\n",
              "    </tr>\n",
              "    <tr>\n",
              "      <th>16</th>\n",
              "      <td>3</td>\n",
              "      <td>3200</td>\n",
              "      <td>37.26</td>\n",
              "      <td>7.56</td>\n",
              "      <td>99.29</td>\n",
              "      <td>0.99</td>\n",
              "    </tr>\n",
              "    <tr>\n",
              "      <th>17</th>\n",
              "      <td>3</td>\n",
              "      <td>3400</td>\n",
              "      <td>34.95</td>\n",
              "      <td>8.54</td>\n",
              "      <td>99.41</td>\n",
              "      <td>0.99</td>\n",
              "    </tr>\n",
              "    <tr>\n",
              "      <th>18</th>\n",
              "      <td>3</td>\n",
              "      <td>3600</td>\n",
              "      <td>39.29</td>\n",
              "      <td>8.88</td>\n",
              "      <td>99.50</td>\n",
              "      <td>0.99</td>\n",
              "    </tr>\n",
              "    <tr>\n",
              "      <th>19</th>\n",
              "      <td>3</td>\n",
              "      <td>3800</td>\n",
              "      <td>32.42</td>\n",
              "      <td>6.03</td>\n",
              "      <td>99.47</td>\n",
              "      <td>0.99</td>\n",
              "    </tr>\n",
              "    <tr>\n",
              "      <th>20</th>\n",
              "      <td>4</td>\n",
              "      <td>4000</td>\n",
              "      <td>29.42</td>\n",
              "      <td>6.56</td>\n",
              "      <td>99.51</td>\n",
              "      <td>1.00</td>\n",
              "    </tr>\n",
              "    <tr>\n",
              "      <th>21</th>\n",
              "      <td>4</td>\n",
              "      <td>4200</td>\n",
              "      <td>32.91</td>\n",
              "      <td>6.55</td>\n",
              "      <td>99.52</td>\n",
              "      <td>1.00</td>\n",
              "    </tr>\n",
              "    <tr>\n",
              "      <th>22</th>\n",
              "      <td>4</td>\n",
              "      <td>4400</td>\n",
              "      <td>31.16</td>\n",
              "      <td>6.65</td>\n",
              "      <td>99.49</td>\n",
              "      <td>0.99</td>\n",
              "    </tr>\n",
              "    <tr>\n",
              "      <th>23</th>\n",
              "      <td>4</td>\n",
              "      <td>4600</td>\n",
              "      <td>32.97</td>\n",
              "      <td>7.15</td>\n",
              "      <td>99.37</td>\n",
              "      <td>0.99</td>\n",
              "    </tr>\n",
              "    <tr>\n",
              "      <th>24</th>\n",
              "      <td>4</td>\n",
              "      <td>4800</td>\n",
              "      <td>28.38</td>\n",
              "      <td>5.66</td>\n",
              "      <td>99.53</td>\n",
              "      <td>1.00</td>\n",
              "    </tr>\n",
              "    <tr>\n",
              "      <th>25</th>\n",
              "      <td>5</td>\n",
              "      <td>5000</td>\n",
              "      <td>29.69</td>\n",
              "      <td>6.11</td>\n",
              "      <td>99.49</td>\n",
              "      <td>0.99</td>\n",
              "    </tr>\n",
              "    <tr>\n",
              "      <th>26</th>\n",
              "      <td>5</td>\n",
              "      <td>5200</td>\n",
              "      <td>32.32</td>\n",
              "      <td>5.68</td>\n",
              "      <td>99.50</td>\n",
              "      <td>0.99</td>\n",
              "    </tr>\n",
              "    <tr>\n",
              "      <th>27</th>\n",
              "      <td>5</td>\n",
              "      <td>5400</td>\n",
              "      <td>28.35</td>\n",
              "      <td>5.71</td>\n",
              "      <td>99.53</td>\n",
              "      <td>1.00</td>\n",
              "    </tr>\n",
              "    <tr>\n",
              "      <th>28</th>\n",
              "      <td>5</td>\n",
              "      <td>5600</td>\n",
              "      <td>28.01</td>\n",
              "      <td>5.63</td>\n",
              "      <td>99.49</td>\n",
              "      <td>0.99</td>\n",
              "    </tr>\n",
              "    <tr>\n",
              "      <th>29</th>\n",
              "      <td>5</td>\n",
              "      <td>5800</td>\n",
              "      <td>25.28</td>\n",
              "      <td>6.11</td>\n",
              "      <td>99.43</td>\n",
              "      <td>0.99</td>\n",
              "    </tr>\n",
              "    <tr>\n",
              "      <th>30</th>\n",
              "      <td>6</td>\n",
              "      <td>6000</td>\n",
              "      <td>26.42</td>\n",
              "      <td>6.32</td>\n",
              "      <td>99.57</td>\n",
              "      <td>1.00</td>\n",
              "    </tr>\n",
              "    <tr>\n",
              "      <th>31</th>\n",
              "      <td>6</td>\n",
              "      <td>6200</td>\n",
              "      <td>27.09</td>\n",
              "      <td>5.74</td>\n",
              "      <td>99.35</td>\n",
              "      <td>0.99</td>\n",
              "    </tr>\n",
              "    <tr>\n",
              "      <th>32</th>\n",
              "      <td>6</td>\n",
              "      <td>6400</td>\n",
              "      <td>29.08</td>\n",
              "      <td>4.58</td>\n",
              "      <td>99.51</td>\n",
              "      <td>1.00</td>\n",
              "    </tr>\n",
              "    <tr>\n",
              "      <th>33</th>\n",
              "      <td>6</td>\n",
              "      <td>6600</td>\n",
              "      <td>28.06</td>\n",
              "      <td>4.71</td>\n",
              "      <td>99.48</td>\n",
              "      <td>0.99</td>\n",
              "    </tr>\n",
              "    <tr>\n",
              "      <th>34</th>\n",
              "      <td>6</td>\n",
              "      <td>6800</td>\n",
              "      <td>25.15</td>\n",
              "      <td>4.32</td>\n",
              "      <td>99.54</td>\n",
              "      <td>1.00</td>\n",
              "    </tr>\n",
              "    <tr>\n",
              "      <th>35</th>\n",
              "      <td>7</td>\n",
              "      <td>7000</td>\n",
              "      <td>27.72</td>\n",
              "      <td>4.56</td>\n",
              "      <td>99.58</td>\n",
              "      <td>1.00</td>\n",
              "    </tr>\n",
              "    <tr>\n",
              "      <th>36</th>\n",
              "      <td>7</td>\n",
              "      <td>7200</td>\n",
              "      <td>22.74</td>\n",
              "      <td>4.50</td>\n",
              "      <td>99.62</td>\n",
              "      <td>1.00</td>\n",
              "    </tr>\n",
              "    <tr>\n",
              "      <th>37</th>\n",
              "      <td>7</td>\n",
              "      <td>7400</td>\n",
              "      <td>23.97</td>\n",
              "      <td>3.99</td>\n",
              "      <td>99.33</td>\n",
              "      <td>0.99</td>\n",
              "    </tr>\n",
              "    <tr>\n",
              "      <th>38</th>\n",
              "      <td>7</td>\n",
              "      <td>7600</td>\n",
              "      <td>24.74</td>\n",
              "      <td>6.24</td>\n",
              "      <td>99.52</td>\n",
              "      <td>1.00</td>\n",
              "    </tr>\n",
              "    <tr>\n",
              "      <th>39</th>\n",
              "      <td>7</td>\n",
              "      <td>7800</td>\n",
              "      <td>21.48</td>\n",
              "      <td>3.35</td>\n",
              "      <td>99.57</td>\n",
              "      <td>1.00</td>\n",
              "    </tr>\n",
              "    <tr>\n",
              "      <th>40</th>\n",
              "      <td>8</td>\n",
              "      <td>8000</td>\n",
              "      <td>24.35</td>\n",
              "      <td>4.03</td>\n",
              "      <td>99.56</td>\n",
              "      <td>1.00</td>\n",
              "    </tr>\n",
              "    <tr>\n",
              "      <th>41</th>\n",
              "      <td>8</td>\n",
              "      <td>8200</td>\n",
              "      <td>24.37</td>\n",
              "      <td>3.72</td>\n",
              "      <td>99.54</td>\n",
              "      <td>1.00</td>\n",
              "    </tr>\n",
              "    <tr>\n",
              "      <th>42</th>\n",
              "      <td>8</td>\n",
              "      <td>8400</td>\n",
              "      <td>20.39</td>\n",
              "      <td>4.42</td>\n",
              "      <td>99.58</td>\n",
              "      <td>1.00</td>\n",
              "    </tr>\n",
              "    <tr>\n",
              "      <th>43</th>\n",
              "      <td>8</td>\n",
              "      <td>8600</td>\n",
              "      <td>25.80</td>\n",
              "      <td>3.73</td>\n",
              "      <td>99.55</td>\n",
              "      <td>1.00</td>\n",
              "    </tr>\n",
              "  </tbody>\n",
              "</table>\n",
              "</div>\n",
              "    <div class=\"colab-df-buttons\">\n",
              "\n",
              "  <div class=\"colab-df-container\">\n",
              "    <button class=\"colab-df-convert\" onclick=\"convertToInteractive('df-ce29f3be-ce26-41b0-942b-d8c66fcb5ad6')\"\n",
              "            title=\"Convert this dataframe to an interactive table.\"\n",
              "            style=\"display:none;\">\n",
              "\n",
              "  <svg xmlns=\"http://www.w3.org/2000/svg\" height=\"24px\" viewBox=\"0 -960 960 960\">\n",
              "    <path d=\"M120-120v-720h720v720H120Zm60-500h600v-160H180v160Zm220 220h160v-160H400v160Zm0 220h160v-160H400v160ZM180-400h160v-160H180v160Zm440 0h160v-160H620v160ZM180-180h160v-160H180v160Zm440 0h160v-160H620v160Z\"/>\n",
              "  </svg>\n",
              "    </button>\n",
              "\n",
              "  <style>\n",
              "    .colab-df-container {\n",
              "      display:flex;\n",
              "      gap: 12px;\n",
              "    }\n",
              "\n",
              "    .colab-df-convert {\n",
              "      background-color: #E8F0FE;\n",
              "      border: none;\n",
              "      border-radius: 50%;\n",
              "      cursor: pointer;\n",
              "      display: none;\n",
              "      fill: #1967D2;\n",
              "      height: 32px;\n",
              "      padding: 0 0 0 0;\n",
              "      width: 32px;\n",
              "    }\n",
              "\n",
              "    .colab-df-convert:hover {\n",
              "      background-color: #E2EBFA;\n",
              "      box-shadow: 0px 1px 2px rgba(60, 64, 67, 0.3), 0px 1px 3px 1px rgba(60, 64, 67, 0.15);\n",
              "      fill: #174EA6;\n",
              "    }\n",
              "\n",
              "    .colab-df-buttons div {\n",
              "      margin-bottom: 4px;\n",
              "    }\n",
              "\n",
              "    [theme=dark] .colab-df-convert {\n",
              "      background-color: #3B4455;\n",
              "      fill: #D2E3FC;\n",
              "    }\n",
              "\n",
              "    [theme=dark] .colab-df-convert:hover {\n",
              "      background-color: #434B5C;\n",
              "      box-shadow: 0px 1px 3px 1px rgba(0, 0, 0, 0.15);\n",
              "      filter: drop-shadow(0px 1px 2px rgba(0, 0, 0, 0.3));\n",
              "      fill: #FFFFFF;\n",
              "    }\n",
              "  </style>\n",
              "\n",
              "    <script>\n",
              "      const buttonEl =\n",
              "        document.querySelector('#df-ce29f3be-ce26-41b0-942b-d8c66fcb5ad6 button.colab-df-convert');\n",
              "      buttonEl.style.display =\n",
              "        google.colab.kernel.accessAllowed ? 'block' : 'none';\n",
              "\n",
              "      async function convertToInteractive(key) {\n",
              "        const element = document.querySelector('#df-ce29f3be-ce26-41b0-942b-d8c66fcb5ad6');\n",
              "        const dataTable =\n",
              "          await google.colab.kernel.invokeFunction('convertToInteractive',\n",
              "                                                    [key], {});\n",
              "        if (!dataTable) return;\n",
              "\n",
              "        const docLinkHtml = 'Like what you see? Visit the ' +\n",
              "          '<a target=\"_blank\" href=https://colab.research.google.com/notebooks/data_table.ipynb>data table notebook</a>'\n",
              "          + ' to learn more about interactive tables.';\n",
              "        element.innerHTML = '';\n",
              "        dataTable['output_type'] = 'display_data';\n",
              "        await google.colab.output.renderOutput(dataTable, element);\n",
              "        const docLink = document.createElement('div');\n",
              "        docLink.innerHTML = docLinkHtml;\n",
              "        element.appendChild(docLink);\n",
              "      }\n",
              "    </script>\n",
              "  </div>\n",
              "\n",
              "\n",
              "<div id=\"df-6641ac9f-abb4-4c49-abe9-24c36f611fe1\">\n",
              "  <button class=\"colab-df-quickchart\" onclick=\"quickchart('df-6641ac9f-abb4-4c49-abe9-24c36f611fe1')\"\n",
              "            title=\"Suggest charts\"\n",
              "            style=\"display:none;\">\n",
              "\n",
              "<svg xmlns=\"http://www.w3.org/2000/svg\" height=\"24px\"viewBox=\"0 0 24 24\"\n",
              "     width=\"24px\">\n",
              "    <g>\n",
              "        <path d=\"M19 3H5c-1.1 0-2 .9-2 2v14c0 1.1.9 2 2 2h14c1.1 0 2-.9 2-2V5c0-1.1-.9-2-2-2zM9 17H7v-7h2v7zm4 0h-2V7h2v10zm4 0h-2v-4h2v4z\"/>\n",
              "    </g>\n",
              "</svg>\n",
              "  </button>\n",
              "\n",
              "<style>\n",
              "  .colab-df-quickchart {\n",
              "      --bg-color: #E8F0FE;\n",
              "      --fill-color: #1967D2;\n",
              "      --hover-bg-color: #E2EBFA;\n",
              "      --hover-fill-color: #174EA6;\n",
              "      --disabled-fill-color: #AAA;\n",
              "      --disabled-bg-color: #DDD;\n",
              "  }\n",
              "\n",
              "  [theme=dark] .colab-df-quickchart {\n",
              "      --bg-color: #3B4455;\n",
              "      --fill-color: #D2E3FC;\n",
              "      --hover-bg-color: #434B5C;\n",
              "      --hover-fill-color: #FFFFFF;\n",
              "      --disabled-bg-color: #3B4455;\n",
              "      --disabled-fill-color: #666;\n",
              "  }\n",
              "\n",
              "  .colab-df-quickchart {\n",
              "    background-color: var(--bg-color);\n",
              "    border: none;\n",
              "    border-radius: 50%;\n",
              "    cursor: pointer;\n",
              "    display: none;\n",
              "    fill: var(--fill-color);\n",
              "    height: 32px;\n",
              "    padding: 0;\n",
              "    width: 32px;\n",
              "  }\n",
              "\n",
              "  .colab-df-quickchart:hover {\n",
              "    background-color: var(--hover-bg-color);\n",
              "    box-shadow: 0 1px 2px rgba(60, 64, 67, 0.3), 0 1px 3px 1px rgba(60, 64, 67, 0.15);\n",
              "    fill: var(--button-hover-fill-color);\n",
              "  }\n",
              "\n",
              "  .colab-df-quickchart-complete:disabled,\n",
              "  .colab-df-quickchart-complete:disabled:hover {\n",
              "    background-color: var(--disabled-bg-color);\n",
              "    fill: var(--disabled-fill-color);\n",
              "    box-shadow: none;\n",
              "  }\n",
              "\n",
              "  .colab-df-spinner {\n",
              "    border: 2px solid var(--fill-color);\n",
              "    border-color: transparent;\n",
              "    border-bottom-color: var(--fill-color);\n",
              "    animation:\n",
              "      spin 1s steps(1) infinite;\n",
              "  }\n",
              "\n",
              "  @keyframes spin {\n",
              "    0% {\n",
              "      border-color: transparent;\n",
              "      border-bottom-color: var(--fill-color);\n",
              "      border-left-color: var(--fill-color);\n",
              "    }\n",
              "    20% {\n",
              "      border-color: transparent;\n",
              "      border-left-color: var(--fill-color);\n",
              "      border-top-color: var(--fill-color);\n",
              "    }\n",
              "    30% {\n",
              "      border-color: transparent;\n",
              "      border-left-color: var(--fill-color);\n",
              "      border-top-color: var(--fill-color);\n",
              "      border-right-color: var(--fill-color);\n",
              "    }\n",
              "    40% {\n",
              "      border-color: transparent;\n",
              "      border-right-color: var(--fill-color);\n",
              "      border-top-color: var(--fill-color);\n",
              "    }\n",
              "    60% {\n",
              "      border-color: transparent;\n",
              "      border-right-color: var(--fill-color);\n",
              "    }\n",
              "    80% {\n",
              "      border-color: transparent;\n",
              "      border-right-color: var(--fill-color);\n",
              "      border-bottom-color: var(--fill-color);\n",
              "    }\n",
              "    90% {\n",
              "      border-color: transparent;\n",
              "      border-bottom-color: var(--fill-color);\n",
              "    }\n",
              "  }\n",
              "</style>\n",
              "\n",
              "  <script>\n",
              "    async function quickchart(key) {\n",
              "      const quickchartButtonEl =\n",
              "        document.querySelector('#' + key + ' button');\n",
              "      quickchartButtonEl.disabled = true;  // To prevent multiple clicks.\n",
              "      quickchartButtonEl.classList.add('colab-df-spinner');\n",
              "      try {\n",
              "        const charts = await google.colab.kernel.invokeFunction(\n",
              "            'suggestCharts', [key], {});\n",
              "      } catch (error) {\n",
              "        console.error('Error during call to suggestCharts:', error);\n",
              "      }\n",
              "      quickchartButtonEl.classList.remove('colab-df-spinner');\n",
              "      quickchartButtonEl.classList.add('colab-df-quickchart-complete');\n",
              "    }\n",
              "    (() => {\n",
              "      let quickchartButtonEl =\n",
              "        document.querySelector('#df-6641ac9f-abb4-4c49-abe9-24c36f611fe1 button');\n",
              "      quickchartButtonEl.style.display =\n",
              "        google.colab.kernel.accessAllowed ? 'block' : 'none';\n",
              "    })();\n",
              "  </script>\n",
              "</div>\n",
              "\n",
              "  <div id=\"id_f1f0d1a5-007d-43cd-98ff-ccacd43ab7e3\">\n",
              "    <style>\n",
              "      .colab-df-generate {\n",
              "        background-color: #E8F0FE;\n",
              "        border: none;\n",
              "        border-radius: 50%;\n",
              "        cursor: pointer;\n",
              "        display: none;\n",
              "        fill: #1967D2;\n",
              "        height: 32px;\n",
              "        padding: 0 0 0 0;\n",
              "        width: 32px;\n",
              "      }\n",
              "\n",
              "      .colab-df-generate:hover {\n",
              "        background-color: #E2EBFA;\n",
              "        box-shadow: 0px 1px 2px rgba(60, 64, 67, 0.3), 0px 1px 3px 1px rgba(60, 64, 67, 0.15);\n",
              "        fill: #174EA6;\n",
              "      }\n",
              "\n",
              "      [theme=dark] .colab-df-generate {\n",
              "        background-color: #3B4455;\n",
              "        fill: #D2E3FC;\n",
              "      }\n",
              "\n",
              "      [theme=dark] .colab-df-generate:hover {\n",
              "        background-color: #434B5C;\n",
              "        box-shadow: 0px 1px 3px 1px rgba(0, 0, 0, 0.15);\n",
              "        filter: drop-shadow(0px 1px 2px rgba(0, 0, 0, 0.3));\n",
              "        fill: #FFFFFF;\n",
              "      }\n",
              "    </style>\n",
              "    <button class=\"colab-df-generate\" onclick=\"generateWithVariable('result')\"\n",
              "            title=\"Generate code using this dataframe.\"\n",
              "            style=\"display:none;\">\n",
              "\n",
              "  <svg xmlns=\"http://www.w3.org/2000/svg\" height=\"24px\"viewBox=\"0 0 24 24\"\n",
              "       width=\"24px\">\n",
              "    <path d=\"M7,19H8.4L18.45,9,17,7.55,7,17.6ZM5,21V16.75L18.45,3.32a2,2,0,0,1,2.83,0l1.4,1.43a1.91,1.91,0,0,1,.58,1.4,1.91,1.91,0,0,1-.58,1.4L9.25,21ZM18.45,9,17,7.55Zm-12,3A5.31,5.31,0,0,0,4.9,8.1,5.31,5.31,0,0,0,1,6.5,5.31,5.31,0,0,0,4.9,4.9,5.31,5.31,0,0,0,6.5,1,5.31,5.31,0,0,0,8.1,4.9,5.31,5.31,0,0,0,12,6.5,5.46,5.46,0,0,0,6.5,12Z\"/>\n",
              "  </svg>\n",
              "    </button>\n",
              "    <script>\n",
              "      (() => {\n",
              "      const buttonEl =\n",
              "        document.querySelector('#id_f1f0d1a5-007d-43cd-98ff-ccacd43ab7e3 button.colab-df-generate');\n",
              "      buttonEl.style.display =\n",
              "        google.colab.kernel.accessAllowed ? 'block' : 'none';\n",
              "\n",
              "      buttonEl.onclick = () => {\n",
              "        google.colab.notebook.generateWithVariable('result');\n",
              "      }\n",
              "      })();\n",
              "    </script>\n",
              "  </div>\n",
              "\n",
              "    </div>\n",
              "  </div>\n"
            ]
          },
          "metadata": {},
          "execution_count": 136
        }
      ]
    },
    {
      "cell_type": "code",
      "source": [
        "plt.figure(figsize = (16, 8))\n",
        "fig, ax1 = plt.subplots(dpi = 300)\n",
        "\n",
        "ax1.plot(result['#'], result['LOSS TEXTCAT_MULTILABEL'],  label = 'Validation Loss', marker = 'o', color = 'blue')\n",
        "ax1.set_xlabel('Steps')\n",
        "ax1.set_ylabel('Validation Loss', color = 'blue')\n",
        "ax1.set_yticks(range(0, 110, 20))\n",
        "ax1.tick_params('y', colors = 'blue')\n",
        "\n",
        "ax2 = ax1.twinx()\n",
        "ax2.plot(result['#'], result['CATS_SCORE'], label = 'SCORE', marker = 'o', color = 'green')\n",
        "ax2.set_ylabel('ACCURACY', color = 'green')\n",
        "ax2.set_yticks(range(0, 110, 20))\n",
        "ax2.tick_params('y', colors = 'green')\n",
        "\n",
        "plt.title('Validation Loss & Classification Accuracy per step')\n",
        "plt.grid(True)\n",
        "plt.show()"
      ],
      "metadata": {
        "colab": {
          "base_uri": "https://localhost:8080/",
          "height": 1000
        },
        "id": "kqc94Q087Bbb",
        "outputId": "927a0513-c264-4cb0-cdc7-df22bc0a1ca7"
      },
      "execution_count": 137,
      "outputs": [
        {
          "output_type": "display_data",
          "data": {
            "text/plain": [
              "<Figure size 1600x800 with 0 Axes>"
            ]
          },
          "metadata": {}
        },
        {
          "output_type": "display_data",
          "data": {
            "text/plain": [
              "<Figure size 1920x1440 with 2 Axes>"
            ],
            "image/png": "[encoded data removed]"
          },
          "metadata": {
            "image/png": {
              "width": 1879,
              "height": 1358
            }
          }
        }
      ]
    },
    {
      "cell_type": "code",
      "source": [
        "clf = spacy.load('/content/drive/MyDrive/Capstone/Spacy/Overall_Layer/output/model-best')"
      ],
      "metadata": {
        "id": "0cjbkDnnDuUf"
      },
      "execution_count": null,
      "outputs": []
    },
    {
      "cell_type": "code",
      "source": [
        "os.chdir('/content/drive/MyDrive/Capstone/Spacy/Overall_Layer')"
      ],
      "metadata": {
        "id": "12i-qheXFNIB"
      },
      "execution_count": null,
      "outputs": []
    },
    {
      "cell_type": "markdown",
      "source": [
        "### Performance comparison between 3 data preprocessing method"
      ],
      "metadata": {
        "id": "tDY0DwDr7QYE"
      }
    },
    {
      "cell_type": "code",
      "source": [
        "!python -m spacy evaluate output/model-best/ --output ./output/metrics.json ./data/valid_1223.spacy --gpu-id 0"
      ],
      "metadata": {
        "id": "Z481VDT8woRe",
        "colab": {
          "base_uri": "https://localhost:8080/"
        },
        "outputId": "f579df76-895b-4fc9-f27a-b35f538f879f"
      },
      "execution_count": 55,
      "outputs": [
        {
          "output_type": "stream",
          "name": "stdout",
          "text": [
            "2023-12-24 09:05:38.724312: E external/local_xla/xla/stream_executor/cuda/cuda_dnn.cc:9261] Unable to register cuDNN factory: Attempting to register factory for plugin cuDNN when one has already been registered\n",
            "2023-12-24 09:05:38.724365: E external/local_xla/xla/stream_executor/cuda/cuda_fft.cc:607] Unable to register cuFFT factory: Attempting to register factory for plugin cuFFT when one has already been registered\n",
            "2023-12-24 09:05:38.725567: E external/local_xla/xla/stream_executor/cuda/cuda_blas.cc:1515] Unable to register cuBLAS factory: Attempting to register factory for plugin cuBLAS when one has already been registered\n",
            "2023-12-24 09:05:39.913781: W tensorflow/compiler/tf2tensorrt/utils/py_utils.cc:38] TF-TRT Warning: Could not find TensorRT\n",
            "\u001b[38;5;4mℹ Using GPU: 0\u001b[0m\n",
            "\u001b[1m\n",
            "================================== Results ==================================\u001b[0m\n",
            "\n",
            "TOK                   100.00\n",
            "TEXTCAT (macro AUC)   99.59 \n",
            "SPEED                 4201  \n",
            "\n",
            "\u001b[1m\n",
            "=========================== Textcat F (per label) ===========================\u001b[0m\n",
            "\n",
            "         P       R       F\n",
            "比賽   96.92   98.87   97.89\n",
            "加油   98.02   94.56   96.26\n",
            "轉播   98.84   97.31   98.07\n",
            "閒聊   98.24   96.35   97.29\n",
            "\n",
            "\u001b[1m\n",
            "======================== Textcat ROC AUC (per label) ========================\u001b[0m\n",
            "\n",
            "     ROC AUC\n",
            "比賽      1.00\n",
            "加油      1.00\n",
            "轉播      0.99\n",
            "閒聊      1.00\n",
            "\n",
            "\u001b[38;5;2m✔ Saved results to output/metrics.json\u001b[0m\n"
          ]
        }
      ]
    },
    {
      "cell_type": "code",
      "source": [
        "!python -m spacy evaluate output/model-best/ --output ./output/metrics_rmemoji.json ./data/valid_rmemoji_1223.spacy --gpu-id 0"
      ],
      "metadata": {
        "colab": {
          "base_uri": "https://localhost:8080/"
        },
        "id": "zMxHxGlJFem2",
        "outputId": "d6a6adb8-7d13-4669-f792-4e694d31d63f"
      },
      "execution_count": 56,
      "outputs": [
        {
          "output_type": "stream",
          "name": "stdout",
          "text": [
            "2023-12-24 09:07:24.324422: E external/local_xla/xla/stream_executor/cuda/cuda_dnn.cc:9261] Unable to register cuDNN factory: Attempting to register factory for plugin cuDNN when one has already been registered\n",
            "2023-12-24 09:07:24.324508: E external/local_xla/xla/stream_executor/cuda/cuda_fft.cc:607] Unable to register cuFFT factory: Attempting to register factory for plugin cuFFT when one has already been registered\n",
            "2023-12-24 09:07:24.326330: E external/local_xla/xla/stream_executor/cuda/cuda_blas.cc:1515] Unable to register cuBLAS factory: Attempting to register factory for plugin cuBLAS when one has already been registered\n",
            "2023-12-24 09:07:26.050642: W tensorflow/compiler/tf2tensorrt/utils/py_utils.cc:38] TF-TRT Warning: Could not find TensorRT\n",
            "\u001b[38;5;4mℹ Using GPU: 0\u001b[0m\n",
            "\u001b[1m\n",
            "================================== Results ==================================\u001b[0m\n",
            "\n",
            "TOK                   100.00\n",
            "TEXTCAT (macro AUC)   99.25 \n",
            "SPEED                 4158  \n",
            "\n",
            "\u001b[1m\n",
            "=========================== Textcat F (per label) ===========================\u001b[0m\n",
            "\n",
            "         P       R       F\n",
            "比賽   98.92   98.18   98.55\n",
            "加油   99.58   95.17   97.33\n",
            "轉播   98.92   97.55   98.23\n",
            "閒聊   97.28   98.63   97.95\n",
            "\n",
            "\u001b[1m\n",
            "======================== Textcat ROC AUC (per label) ========================\u001b[0m\n",
            "\n",
            "     ROC AUC\n",
            "比賽      0.99\n",
            "加油      0.99\n",
            "轉播      1.00\n",
            "閒聊      0.99\n",
            "\n",
            "\u001b[38;5;2m✔ Saved results to output/metrics_rmemoji.json\u001b[0m\n"
          ]
        }
      ]
    },
    {
      "cell_type": "code",
      "source": [
        "!python -m spacy evaluate output/model-best/ --output ./output/metrics_emoji2desc.json ./data/valid_emoji2desc_1223.spacy --gpu-id 0"
      ],
      "metadata": {
        "colab": {
          "base_uri": "https://localhost:8080/"
        },
        "id": "v8YDZstyFu4o",
        "outputId": "3e1687dc-f01d-432e-dd5c-36c16c3d5500"
      },
      "execution_count": 57,
      "outputs": [
        {
          "output_type": "stream",
          "name": "stdout",
          "text": [
            "2023-12-24 09:09:07.893198: E external/local_xla/xla/stream_executor/cuda/cuda_dnn.cc:9261] Unable to register cuDNN factory: Attempting to register factory for plugin cuDNN when one has already been registered\n",
            "2023-12-24 09:09:07.893253: E external/local_xla/xla/stream_executor/cuda/cuda_fft.cc:607] Unable to register cuFFT factory: Attempting to register factory for plugin cuFFT when one has already been registered\n",
            "2023-12-24 09:09:07.894532: E external/local_xla/xla/stream_executor/cuda/cuda_blas.cc:1515] Unable to register cuBLAS factory: Attempting to register factory for plugin cuBLAS when one has already been registered\n",
            "2023-12-24 09:09:09.044947: W tensorflow/compiler/tf2tensorrt/utils/py_utils.cc:38] TF-TRT Warning: Could not find TensorRT\n",
            "\u001b[38;5;4mℹ Using GPU: 0\u001b[0m\n",
            "\u001b[1m\n",
            "================================== Results ==================================\u001b[0m\n",
            "\n",
            "TOK                   100.00\n",
            "TEXTCAT (macro AUC)   99.41 \n",
            "SPEED                 4651  \n",
            "\n",
            "\u001b[1m\n",
            "=========================== Textcat F (per label) ===========================\u001b[0m\n",
            "\n",
            "         P       R       F\n",
            "比賽   98.86   97.70   98.27\n",
            "加油   97.04   92.87   94.91\n",
            "轉播   98.84   97.55   98.19\n",
            "閒聊   98.19   97.18   97.68\n",
            "\n",
            "\u001b[1m\n",
            "======================== Textcat ROC AUC (per label) ========================\u001b[0m\n",
            "\n",
            "     ROC AUC\n",
            "比賽      1.00\n",
            "加油      0.99\n",
            "轉播      1.00\n",
            "閒聊      1.00\n",
            "\n",
            "\u001b[38;5;2m✔ Saved results to output/metrics_emoji2desc.json\u001b[0m\n"
          ]
        }
      ]
    },
    {
      "cell_type": "code",
      "source": [
        "!python -m spacy evaluate output/model-best/ --output ./output/metrics_emoji2desc_en.json ./data/valid_emoji2desc_en_1223.spacy --gpu-id 0"
      ],
      "metadata": {
        "colab": {
          "base_uri": "https://localhost:8080/"
        },
        "id": "h0Hpm8maMVke",
        "outputId": "8b7bcf52-5c80-4eda-ded1-b362e9d4cc9b"
      },
      "execution_count": 58,
      "outputs": [
        {
          "output_type": "stream",
          "name": "stdout",
          "text": [
            "2023-12-24 09:10:52.812952: E external/local_xla/xla/stream_executor/cuda/cuda_dnn.cc:9261] Unable to register cuDNN factory: Attempting to register factory for plugin cuDNN when one has already been registered\n",
            "2023-12-24 09:10:52.813019: E external/local_xla/xla/stream_executor/cuda/cuda_fft.cc:607] Unable to register cuFFT factory: Attempting to register factory for plugin cuFFT when one has already been registered\n",
            "2023-12-24 09:10:52.814404: E external/local_xla/xla/stream_executor/cuda/cuda_blas.cc:1515] Unable to register cuBLAS factory: Attempting to register factory for plugin cuBLAS when one has already been registered\n",
            "2023-12-24 09:10:53.960824: W tensorflow/compiler/tf2tensorrt/utils/py_utils.cc:38] TF-TRT Warning: Could not find TensorRT\n",
            "\u001b[38;5;4mℹ Using GPU: 0\u001b[0m\n",
            "\u001b[1m\n",
            "================================== Results ==================================\u001b[0m\n",
            "\n",
            "TOK                   100.00\n",
            "TEXTCAT (macro AUC)   98.41 \n",
            "SPEED                 5918  \n",
            "\n",
            "\u001b[1m\n",
            "=========================== Textcat F (per label) ===========================\u001b[0m\n",
            "\n",
            "         P       R       F\n",
            "比賽   94.28   96.97   95.60\n",
            "加油   96.09   95.57   95.83\n",
            "轉播   98.92   97.55   98.23\n",
            "閒聊   98.73   92.49   95.51\n",
            "\n",
            "\u001b[1m\n",
            "======================== Textcat ROC AUC (per label) ========================\u001b[0m\n",
            "\n",
            "     ROC AUC\n",
            "比賽      0.97\n",
            "加油      0.99\n",
            "轉播      0.99\n",
            "閒聊      0.98\n",
            "\n",
            "\u001b[38;5;2m✔ Saved results to output/metrics_emoji2desc_en.json\u001b[0m\n"
          ]
        }
      ]
    },
    {
      "cell_type": "code",
      "source": [
        "!python -m spacy evaluate output/model-best/ --output ./output/metrics_rmpuncs.json ./data/valid_rmpunc_1223.spacy --gpu-id 0"
      ],
      "metadata": {
        "colab": {
          "base_uri": "https://localhost:8080/"
        },
        "id": "dOKIY0WMF0MH",
        "outputId": "a58558da-c8f6-4f71-b53e-d6ce7c2739f8"
      },
      "execution_count": 59,
      "outputs": [
        {
          "output_type": "stream",
          "name": "stdout",
          "text": [
            "2023-12-24 09:12:39.083267: E external/local_xla/xla/stream_executor/cuda/cuda_dnn.cc:9261] Unable to register cuDNN factory: Attempting to register factory for plugin cuDNN when one has already been registered\n",
            "2023-12-24 09:12:39.083326: E external/local_xla/xla/stream_executor/cuda/cuda_fft.cc:607] Unable to register cuFFT factory: Attempting to register factory for plugin cuFFT when one has already been registered\n",
            "2023-12-24 09:12:39.084625: E external/local_xla/xla/stream_executor/cuda/cuda_blas.cc:1515] Unable to register cuBLAS factory: Attempting to register factory for plugin cuBLAS when one has already been registered\n",
            "2023-12-24 09:12:40.330879: W tensorflow/compiler/tf2tensorrt/utils/py_utils.cc:38] TF-TRT Warning: Could not find TensorRT\n",
            "\u001b[38;5;4mℹ Using GPU: 0\u001b[0m\n",
            "\u001b[1m\n",
            "================================== Results ==================================\u001b[0m\n",
            "\n",
            "TOK                   100.00\n",
            "TEXTCAT (macro AUC)   99.19 \n",
            "SPEED                 4045  \n",
            "\n",
            "\u001b[1m\n",
            "=========================== Textcat F (per label) ===========================\u001b[0m\n",
            "\n",
            "         P       R       F\n",
            "比賽   98.99   98.00   98.49\n",
            "加油   99.60   95.02   97.26\n",
            "轉播   98.27   97.63   97.95\n",
            "閒聊   96.98   98.56   97.77\n",
            "\n",
            "\u001b[1m\n",
            "======================== Textcat ROC AUC (per label) ========================\u001b[0m\n",
            "\n",
            "     ROC AUC\n",
            "比賽      0.99\n",
            "加油      0.99\n",
            "轉播      1.00\n",
            "閒聊      0.99\n",
            "\n",
            "\u001b[38;5;2m✔ Saved results to output/metrics_rmpuncs.json\u001b[0m\n"
          ]
        }
      ]
    },
    {
      "cell_type": "code",
      "source": [
        "os.chdir('./output')"
      ],
      "metadata": {
        "id": "NW8donSRHSAm"
      },
      "execution_count": 60,
      "outputs": []
    },
    {
      "cell_type": "code",
      "source": [
        "score = get_json('./metrics.json')\n",
        "score_rmemoji = get_json('./metrics_rmemoji.json')\n",
        "score_emoji2desc = get_json('./metrics_emoji2desc.json')\n",
        "score_emoji2desc_en = get_json('./metrics_emoji2desc_en.json')\n",
        "score_rmpunc = get_json('./metrics_rmpuncs.json')"
      ],
      "metadata": {
        "id": "e0LRlezjHY9G"
      },
      "execution_count": 61,
      "outputs": []
    },
    {
      "cell_type": "code",
      "source": [
        "p = ['cats_score', 'cats_macro_p', 'cats_macro_r', 'cats_macro_f']\n",
        "\n",
        "performance_raw = pd.DataFrame({\n",
        "    'SCORE': score[p[0]],\n",
        "    'MARCO_P': score[p[1]],\n",
        "    'MARCO_R': score[p[2]],\n",
        "    'MARCO_F1': score[p[3]]\n",
        "}, index = ['RAW'])\n",
        "\n",
        "performance_rmemoji = pd.DataFrame({\n",
        "    'SCORE': score_rmemoji[p[0]],\n",
        "    'MARCO_P': score_rmemoji[p[1]],\n",
        "    'MARCO_R': score_rmemoji[p[2]],\n",
        "    'MARCO_F1': score_rmemoji[p[3]]\n",
        "}, index = ['Remove Emoji'])\n",
        "\n",
        "performance_emoji2desc = pd.DataFrame({\n",
        "    'SCORE': score_emoji2desc[p[0]],\n",
        "    'MARCO_P': score_emoji2desc[p[1]],\n",
        "    'MARCO_R': score_emoji2desc[p[2]],\n",
        "    'MARCO_F1': score_emoji2desc[p[3]]\n",
        "}, index = ['Emoji to Description (zh)'])\n",
        "\n",
        "performance_emoji2desc_en = pd.DataFrame({\n",
        "    'SCORE': score_emoji2desc_en[p[0]],\n",
        "    'MARCO_P': score_emoji2desc_en[p[1]],\n",
        "    'MARCO_R': score_emoji2desc_en[p[2]],\n",
        "    'MARCO_F1': score_emoji2desc_en[p[3]]\n",
        "}, index = ['Emoji to Description (en)'])\n",
        "\n",
        "performance_rmpunc = pd.DataFrame({\n",
        "    'SCORE': score_rmpunc[p[0]],\n",
        "    'MARCO_P': score_rmpunc[p[1]],\n",
        "    'MARCO_R': score_rmpunc[p[2]],\n",
        "    'MARCO_F1': score_rmpunc[p[3]]\n",
        "}, index = ['Remove Punctuation'])\n",
        "\n",
        "performance = pd.concat([performance_raw, performance_rmemoji, performance_emoji2desc, performance_emoji2desc_en, performance_rmpunc])\n",
        "performance.index.name = 'METHOD'"
      ],
      "metadata": {
        "id": "WxSK01yMHlc0"
      },
      "execution_count": 62,
      "outputs": []
    },
    {
      "cell_type": "code",
      "source": [
        "performance.style.highlight_max(axis = 0, color = 'red').highlight_min(axis = 0, color = 'lightblue')"
      ],
      "metadata": {
        "colab": {
          "base_uri": "https://localhost:8080/",
          "height": 238
        },
        "id": "f6GDzL1AH0OL",
        "outputId": "1b2559fe-3166-4d09-a3e2-e51d7d74e785"
      },
      "execution_count": 63,
      "outputs": [
        {
          "output_type": "execute_result",
          "data": {
            "text/plain": [
              "<pandas.io.formats.style.Styler at 0x792a75433c10>"
            ],
            "text/html": [
              "<style type=\"text/css\">\n",
              "#T_a5e90_row0_col0, #T_a5e90_row1_col1, #T_a5e90_row1_col2, #T_a5e90_row1_col3 {\n",
              "  background-color: red;\n",
              "}\n",
              "#T_a5e90_row3_col0, #T_a5e90_row3_col1, #T_a5e90_row3_col2, #T_a5e90_row3_col3 {\n",
              "  background-color: lightblue;\n",
              "}\n",
              "</style>\n",
              "<table id=\"T_a5e90\" class=\"dataframe\">\n",
              "  <thead>\n",
              "    <tr>\n",
              "      <th class=\"blank level0\" >&nbsp;</th>\n",
              "      <th id=\"T_a5e90_level0_col0\" class=\"col_heading level0 col0\" >SCORE</th>\n",
              "      <th id=\"T_a5e90_level0_col1\" class=\"col_heading level0 col1\" >MARCO_P</th>\n",
              "      <th id=\"T_a5e90_level0_col2\" class=\"col_heading level0 col2\" >MARCO_R</th>\n",
              "      <th id=\"T_a5e90_level0_col3\" class=\"col_heading level0 col3\" >MARCO_F1</th>\n",
              "    </tr>\n",
              "    <tr>\n",
              "      <th class=\"index_name level0\" >METHOD</th>\n",
              "      <th class=\"blank col0\" >&nbsp;</th>\n",
              "      <th class=\"blank col1\" >&nbsp;</th>\n",
              "      <th class=\"blank col2\" >&nbsp;</th>\n",
              "      <th class=\"blank col3\" >&nbsp;</th>\n",
              "    </tr>\n",
              "  </thead>\n",
              "  <tbody>\n",
              "    <tr>\n",
              "      <th id=\"T_a5e90_level0_row0\" class=\"row_heading level0 row0\" >RAW</th>\n",
              "      <td id=\"T_a5e90_row0_col0\" class=\"data row0 col0\" >0.995897</td>\n",
              "      <td id=\"T_a5e90_row0_col1\" class=\"data row0 col1\" >0.980076</td>\n",
              "      <td id=\"T_a5e90_row0_col2\" class=\"data row0 col2\" >0.967723</td>\n",
              "      <td id=\"T_a5e90_row0_col3\" class=\"data row0 col3\" >0.973760</td>\n",
              "    </tr>\n",
              "    <tr>\n",
              "      <th id=\"T_a5e90_level0_row1\" class=\"row_heading level0 row1\" >Remove Emoji</th>\n",
              "      <td id=\"T_a5e90_row1_col0\" class=\"data row1 col0\" >0.992478</td>\n",
              "      <td id=\"T_a5e90_row1_col1\" class=\"data row1 col1\" >0.986752</td>\n",
              "      <td id=\"T_a5e90_row1_col2\" class=\"data row1 col2\" >0.973844</td>\n",
              "      <td id=\"T_a5e90_row1_col3\" class=\"data row1 col3\" >0.980146</td>\n",
              "    </tr>\n",
              "    <tr>\n",
              "      <th id=\"T_a5e90_level0_row2\" class=\"row_heading level0 row2\" >Emoji to Description (zh)</th>\n",
              "      <td id=\"T_a5e90_row2_col0\" class=\"data row2 col0\" >0.994050</td>\n",
              "      <td id=\"T_a5e90_row2_col1\" class=\"data row2 col1\" >0.982323</td>\n",
              "      <td id=\"T_a5e90_row2_col2\" class=\"data row2 col2\" >0.963248</td>\n",
              "      <td id=\"T_a5e90_row2_col3\" class=\"data row2 col3\" >0.972645</td>\n",
              "    </tr>\n",
              "    <tr>\n",
              "      <th id=\"T_a5e90_level0_row3\" class=\"row_heading level0 row3\" >Emoji to Description (en)</th>\n",
              "      <td id=\"T_a5e90_row3_col0\" class=\"data row3 col0\" >0.984064</td>\n",
              "      <td id=\"T_a5e90_row3_col1\" class=\"data row3 col1\" >0.970052</td>\n",
              "      <td id=\"T_a5e90_row3_col2\" class=\"data row3 col2\" >0.956440</td>\n",
              "      <td id=\"T_a5e90_row3_col3\" class=\"data row3 col3\" >0.962930</td>\n",
              "    </tr>\n",
              "    <tr>\n",
              "      <th id=\"T_a5e90_level0_row4\" class=\"row_heading level0 row4\" >Remove Punctuation</th>\n",
              "      <td id=\"T_a5e90_row4_col0\" class=\"data row4 col0\" >0.991891</td>\n",
              "      <td id=\"T_a5e90_row4_col1\" class=\"data row4 col1\" >0.984605</td>\n",
              "      <td id=\"T_a5e90_row4_col2\" class=\"data row4 col2\" >0.973046</td>\n",
              "      <td id=\"T_a5e90_row4_col3\" class=\"data row4 col3\" >0.978666</td>\n",
              "    </tr>\n",
              "  </tbody>\n",
              "</table>\n"
            ]
          },
          "metadata": {},
          "execution_count": 63
        }
      ]
    },
    {
      "cell_type": "code",
      "source": [
        "performance.to_csv('prf_cf_emoji.csv')"
      ],
      "metadata": {
        "id": "Hg3MpsjSH-1R"
      },
      "execution_count": 64,
      "outputs": []
    },
    {
      "cell_type": "code",
      "source": [
        "cats_f_per_type = score['cats_f_per_type']\n",
        "df_cats_f_per_type = pd.DataFrame(cats_f_per_type).T\n",
        "df_cats_f_per_type = df_cats_f_per_type.rename(columns = {'p': 'PRECISION', 'r': 'RECALL', 'f': 'F1'})\n",
        "\n",
        "df_cats_f_per_type.index.name = 'CATEGORY'"
      ],
      "metadata": {
        "id": "9eUi8YXMpG71"
      },
      "execution_count": 65,
      "outputs": []
    },
    {
      "cell_type": "code",
      "source": [
        "df_cats_f_per_type.style.highlight_max(axis = 0, color = 'red').highlight_min(axis = 0, color = 'lightblue')"
      ],
      "metadata": {
        "colab": {
          "base_uri": "https://localhost:8080/",
          "height": 206
        },
        "id": "fnXLIenCqQwi",
        "outputId": "cf46efb5-1a28-4869-e911-5e7fba9084f6"
      },
      "execution_count": 66,
      "outputs": [
        {
          "output_type": "execute_result",
          "data": {
            "text/plain": [
              "<pandas.io.formats.style.Styler at 0x792a75433e80>"
            ],
            "text/html": [
              "<style type=\"text/css\">\n",
              "#T_6c0ce_row0_col0, #T_6c0ce_row1_col1, #T_6c0ce_row1_col2 {\n",
              "  background-color: lightblue;\n",
              "}\n",
              "#T_6c0ce_row0_col1, #T_6c0ce_row2_col0, #T_6c0ce_row2_col2 {\n",
              "  background-color: red;\n",
              "}\n",
              "</style>\n",
              "<table id=\"T_6c0ce\" class=\"dataframe\">\n",
              "  <thead>\n",
              "    <tr>\n",
              "      <th class=\"blank level0\" >&nbsp;</th>\n",
              "      <th id=\"T_6c0ce_level0_col0\" class=\"col_heading level0 col0\" >PRECISION</th>\n",
              "      <th id=\"T_6c0ce_level0_col1\" class=\"col_heading level0 col1\" >RECALL</th>\n",
              "      <th id=\"T_6c0ce_level0_col2\" class=\"col_heading level0 col2\" >F1</th>\n",
              "    </tr>\n",
              "    <tr>\n",
              "      <th class=\"index_name level0\" >CATEGORY</th>\n",
              "      <th class=\"blank col0\" >&nbsp;</th>\n",
              "      <th class=\"blank col1\" >&nbsp;</th>\n",
              "      <th class=\"blank col2\" >&nbsp;</th>\n",
              "    </tr>\n",
              "  </thead>\n",
              "  <tbody>\n",
              "    <tr>\n",
              "      <th id=\"T_6c0ce_level0_row0\" class=\"row_heading level0 row0\" >比賽</th>\n",
              "      <td id=\"T_6c0ce_row0_col0\" class=\"data row0 col0\" >0.969242</td>\n",
              "      <td id=\"T_6c0ce_row0_col1\" class=\"data row0 col1\" >0.988705</td>\n",
              "      <td id=\"T_6c0ce_row0_col2\" class=\"data row0 col2\" >0.978877</td>\n",
              "    </tr>\n",
              "    <tr>\n",
              "      <th id=\"T_6c0ce_level0_row1\" class=\"row_heading level0 row1\" >加油</th>\n",
              "      <td id=\"T_6c0ce_row1_col0\" class=\"data row1 col0\" >0.980229</td>\n",
              "      <td id=\"T_6c0ce_row1_col1\" class=\"data row1 col1\" >0.945618</td>\n",
              "      <td id=\"T_6c0ce_row1_col2\" class=\"data row1 col2\" >0.962613</td>\n",
              "    </tr>\n",
              "    <tr>\n",
              "      <th id=\"T_6c0ce_level0_row2\" class=\"row_heading level0 row2\" >轉播</th>\n",
              "      <td id=\"T_6c0ce_row2_col0\" class=\"data row2 col0\" >0.988391</td>\n",
              "      <td id=\"T_6c0ce_row2_col1\" class=\"data row2 col1\" >0.973061</td>\n",
              "      <td id=\"T_6c0ce_row2_col2\" class=\"data row2 col2\" >0.980666</td>\n",
              "    </tr>\n",
              "    <tr>\n",
              "      <th id=\"T_6c0ce_level0_row3\" class=\"row_heading level0 row3\" >閒聊</th>\n",
              "      <td id=\"T_6c0ce_row3_col0\" class=\"data row3 col0\" >0.982441</td>\n",
              "      <td id=\"T_6c0ce_row3_col1\" class=\"data row3 col1\" >0.963510</td>\n",
              "      <td id=\"T_6c0ce_row3_col2\" class=\"data row3 col2\" >0.972883</td>\n",
              "    </tr>\n",
              "  </tbody>\n",
              "</table>\n"
            ]
          },
          "metadata": {},
          "execution_count": 66
        }
      ]
    },
    {
      "cell_type": "code",
      "source": [
        "df_cats_f_per_type.to_csv('prf_cf_cats.csv')"
      ],
      "metadata": {
        "id": "Udg18ZVfINM_"
      },
      "execution_count": 67,
      "outputs": []
    },
    {
      "cell_type": "code",
      "source": [
        "cats_f_per_type_score = score['cats_f_per_type']\n",
        "cats_f_per_type_rmemoji = score_rmemoji['cats_f_per_type']\n",
        "cats_f_per_type_emoji2desc = score_emoji2desc['cats_f_per_type']\n",
        "cats_f_per_type_emoji2desc_en = score_emoji2desc_en['cats_f_per_type']\n",
        "cats_f_per_type_rmpunc = score_rmpunc['cats_f_per_type']\n",
        "\n",
        "df_cats_f_per_type_score = pd.DataFrame(cats_f_per_type_score).T\n",
        "df_cats_f_per_type_rmemoji = pd.DataFrame(cats_f_per_type_rmemoji).T\n",
        "df_cats_f_per_type_emoji2desc = pd.DataFrame(cats_f_per_type_emoji2desc).T\n",
        "df_cats_f_per_type_emoji2desc_en = pd.DataFrame(cats_f_per_type_emoji2desc_en).T\n",
        "df_cats_f_per_type_rmpunc = pd.DataFrame(cats_f_per_type_rmpunc).T\n",
        "\n",
        "df_cats_f_per_type_score = df_cats_f_per_type_score.rename(columns={'f': 'RAW'})\n",
        "df_cats_f_per_type_rmemoji = df_cats_f_per_type_rmemoji.rename(columns={'f': 'Remove Emoji'})\n",
        "df_cats_f_per_type_emoji2desc = df_cats_f_per_type_emoji2desc.rename(columns={'f': 'Emoji to Description (zh)'})\n",
        "df_cats_f_per_type_emoji2desc_en = df_cats_f_per_type_emoji2desc_en.rename(columns={'f': 'Emoji to Description (en)'})\n",
        "df_cats_f_per_type_rmpunc = df_cats_f_per_type_rmpunc.rename(columns={'f': 'Remove punctuation'})\n",
        "\n",
        "df_cats = pd.concat([df_cats_f_per_type_score[['RAW']], df_cats_f_per_type_rmemoji[['Remove Emoji']], df_cats_f_per_type_emoji2desc[['Emoji to Description (zh)']], df_cats_f_per_type_emoji2desc_en[['Emoji to Description (en)']], df_cats_f_per_type_rmpunc[['Remove punctuation']]], axis = 1)\n",
        "df_cats.index.name = 'F1 score'"
      ],
      "metadata": {
        "id": "Ir0RrGl1qSf5"
      },
      "execution_count": 68,
      "outputs": []
    },
    {
      "cell_type": "code",
      "source": [
        "df_cats.style.highlight_max(axis = 1, color = 'red').highlight_min(axis = 1, color = 'lightblue')"
      ],
      "metadata": {
        "colab": {
          "base_uri": "https://localhost:8080/",
          "height": 206
        },
        "id": "iXjAoEdCqYtb",
        "outputId": "d4d999b4-2ff0-406b-f21e-782de27062e9"
      },
      "execution_count": 69,
      "outputs": [
        {
          "output_type": "execute_result",
          "data": {
            "text/plain": [
              "<pandas.io.formats.style.Styler at 0x792a743931c0>"
            ],
            "text/html": [
              "<style type=\"text/css\">\n",
              "#T_5c8ff_row0_col1, #T_5c8ff_row1_col1, #T_5c8ff_row2_col1, #T_5c8ff_row2_col3, #T_5c8ff_row3_col1 {\n",
              "  background-color: red;\n",
              "}\n",
              "#T_5c8ff_row0_col3, #T_5c8ff_row1_col2, #T_5c8ff_row2_col4, #T_5c8ff_row3_col3 {\n",
              "  background-color: lightblue;\n",
              "}\n",
              "</style>\n",
              "<table id=\"T_5c8ff\" class=\"dataframe\">\n",
              "  <thead>\n",
              "    <tr>\n",
              "      <th class=\"blank level0\" >&nbsp;</th>\n",
              "      <th id=\"T_5c8ff_level0_col0\" class=\"col_heading level0 col0\" >RAW</th>\n",
              "      <th id=\"T_5c8ff_level0_col1\" class=\"col_heading level0 col1\" >Remove Emoji</th>\n",
              "      <th id=\"T_5c8ff_level0_col2\" class=\"col_heading level0 col2\" >Emoji to Description (zh)</th>\n",
              "      <th id=\"T_5c8ff_level0_col3\" class=\"col_heading level0 col3\" >Emoji to Description (en)</th>\n",
              "      <th id=\"T_5c8ff_level0_col4\" class=\"col_heading level0 col4\" >Remove punctuation</th>\n",
              "    </tr>\n",
              "    <tr>\n",
              "      <th class=\"index_name level0\" >F1 score</th>\n",
              "      <th class=\"blank col0\" >&nbsp;</th>\n",
              "      <th class=\"blank col1\" >&nbsp;</th>\n",
              "      <th class=\"blank col2\" >&nbsp;</th>\n",
              "      <th class=\"blank col3\" >&nbsp;</th>\n",
              "      <th class=\"blank col4\" >&nbsp;</th>\n",
              "    </tr>\n",
              "  </thead>\n",
              "  <tbody>\n",
              "    <tr>\n",
              "      <th id=\"T_5c8ff_level0_row0\" class=\"row_heading level0 row0\" >比賽</th>\n",
              "      <td id=\"T_5c8ff_row0_col0\" class=\"data row0 col0\" >0.978877</td>\n",
              "      <td id=\"T_5c8ff_row0_col1\" class=\"data row0 col1\" >0.985514</td>\n",
              "      <td id=\"T_5c8ff_row0_col2\" class=\"data row0 col2\" >0.982747</td>\n",
              "      <td id=\"T_5c8ff_row0_col3\" class=\"data row0 col3\" >0.956047</td>\n",
              "      <td id=\"T_5c8ff_row0_col4\" class=\"data row0 col4\" >0.984912</td>\n",
              "    </tr>\n",
              "    <tr>\n",
              "      <th id=\"T_5c8ff_level0_row1\" class=\"row_heading level0 row1\" >加油</th>\n",
              "      <td id=\"T_5c8ff_row1_col0\" class=\"data row1 col0\" >0.962613</td>\n",
              "      <td id=\"T_5c8ff_row1_col1\" class=\"data row1 col1\" >0.973256</td>\n",
              "      <td id=\"T_5c8ff_row1_col2\" class=\"data row1 col2\" >0.949073</td>\n",
              "      <td id=\"T_5c8ff_row1_col3\" class=\"data row1 col3\" >0.958270</td>\n",
              "      <td id=\"T_5c8ff_row1_col4\" class=\"data row1 col4\" >0.972555</td>\n",
              "    </tr>\n",
              "    <tr>\n",
              "      <th id=\"T_5c8ff_level0_row2\" class=\"row_heading level0 row2\" >轉播</th>\n",
              "      <td id=\"T_5c8ff_row2_col0\" class=\"data row2 col0\" >0.980666</td>\n",
              "      <td id=\"T_5c8ff_row2_col1\" class=\"data row2 col1\" >0.982326</td>\n",
              "      <td id=\"T_5c8ff_row2_col2\" class=\"data row2 col2\" >0.981923</td>\n",
              "      <td id=\"T_5c8ff_row2_col3\" class=\"data row2 col3\" >0.982326</td>\n",
              "      <td id=\"T_5c8ff_row2_col4\" class=\"data row2 col4\" >0.979525</td>\n",
              "    </tr>\n",
              "    <tr>\n",
              "      <th id=\"T_5c8ff_level0_row3\" class=\"row_heading level0 row3\" >閒聊</th>\n",
              "      <td id=\"T_5c8ff_row3_col0\" class=\"data row3 col0\" >0.972883</td>\n",
              "      <td id=\"T_5c8ff_row3_col1\" class=\"data row3 col1\" >0.979490</td>\n",
              "      <td id=\"T_5c8ff_row3_col2\" class=\"data row3 col2\" >0.976838</td>\n",
              "      <td id=\"T_5c8ff_row3_col3\" class=\"data row3 col3\" >0.955079</td>\n",
              "      <td id=\"T_5c8ff_row3_col4\" class=\"data row3 col4\" >0.977674</td>\n",
              "    </tr>\n",
              "  </tbody>\n",
              "</table>\n"
            ]
          },
          "metadata": {},
          "execution_count": 69
        }
      ]
    },
    {
      "cell_type": "code",
      "source": [
        "df_cats.to_csv('f1_cf_cats_emoji.csv')"
      ],
      "metadata": {
        "id": "jY9RpscCqazh"
      },
      "execution_count": 70,
      "outputs": []
    },
    {
      "cell_type": "code",
      "source": [],
      "metadata": {
        "id": "bMOab5OauNmO"
      },
      "execution_count": null,
      "outputs": []
    }
  ]
}